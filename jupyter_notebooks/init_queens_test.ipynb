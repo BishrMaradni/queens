{
 "cells": [
  {
   "cell_type": "markdown",
   "metadata": {},
   "source": [
    "# **First steps in QUEENS** \n",
    "***\n",
    "\n",
    "---\n",
    "First steps in QUEENS "
   ]
  },
  {
   "cell_type": "code",
   "execution_count": 2,
   "metadata": {},
   "outputs": [
    {
     "name": "stderr",
     "output_type": "stream",
     "text": [
      " /Applications/anaconda/envs/test/lib/python3.5/site-packages/sklearn/cross_validation.py:44: DeprecationWarning:This module was deprecated in version 0.18 in favor of the model_selection module into which all the refactored classes and functions are moved. Also note that the interface of the new CV iterators are different from that of this module. This module will be removed in 0.20.\n",
      " /Applications/anaconda/envs/test/lib/python3.5/site-packages/sklearn/grid_search.py:43: DeprecationWarning:This module was deprecated in version 0.18 in favor of the model_selection module into which all the refactored classes and functions are moved. This module will be removed in 0.20.\n"
     ]
    }
   ],
   "source": [
    "import pqueens\n",
    "import argparse\n",
    "import os\n",
    "import time\n",
    "import sys\n",
    "import numpy as np\n",
    "try: import simplejson as json\n",
    "except ImportError: import json\n",
    "\n",
    "from  pqueens.resources.resource import parse_resources_from_configuration\n",
    "from  pqueens.resources.resource import print_resources_status\n",
    "\n",
    "from pqueens.database.mongodb import MongoDB\n",
    "\n",
    "from collections import OrderedDict\n",
    "from pqueens.emulators.gp_emulator import GPEmulator\n",
    "from pqueens.resources.resource import parse_resources_from_configuration\n",
    "from pqueens.resources.resource import print_resources_status\n",
    "from pqueens.designers.designer_factory import DesignerFactory\n",
    "from collections import OrderedDict\n",
    "\n",
    "\n",
    "\n",
    "# set input params \n",
    "# path to input file in json format \n",
    "input_file = '/Users/jonas/work/adco/queens_code/pqueens/example_input_files/baci_config.json'\n",
    "output_dir ='/Users/jonas/work/adco/queens_code/pqueens/example_input_files'\n",
    "try:\n",
    "    with open(input_file, 'r') as f:\n",
    "        options = json.load(f, object_pairs_hook=OrderedDict)\n",
    "except:\n",
    "    raise Exception(\"config.json did not load properly.\")\n",
    "    \n",
    "options[\"input_file\"] = input_file\n",
    "options[\"output_dir\"] = output_dir\n",
    "    \n",
    "    "
   ]
  },
  {
   "cell_type": "code",
   "execution_count": 3,
   "metadata": {
    "collapsed": true
   },
   "outputs": [],
   "source": [
    "def create_new_job(db,suggestion,experiment_name,options,resource_name):\n",
    "\n",
    "    print(\"Created new job\")\n",
    "    jobs = load_jobs(db, experiment_name)\n",
    "\n",
    "    job_id = len(jobs) + 1\n",
    "\n",
    "    i = 0\n",
    "    params = {}\n",
    "    for key, variable_meta_data in options['variables'].items():\n",
    "        params[key] = variable_meta_data\n",
    "        params[key]['values']=suggestion[i]\n",
    "        i+=1\n",
    "\n",
    "    job = {\n",
    "        'id'           : job_id,\n",
    "        'params' :       params,\n",
    "        'expt_dir'     : options['output_dir'],\n",
    "        'expt_name'    : experiment_name,\n",
    "        'resource'     : resource_name,\n",
    "        'driver_type'  : options['driver']['driver_type'],\n",
    "        'driver_params': options['driver']['driver_params'],\n",
    "        'status'       : 'new',\n",
    "        'submit time'  : time.time(),\n",
    "        'start time'   : None,\n",
    "        'end time'     : None\n",
    "    }\n",
    "\n",
    "    save_job(job, db, experiment_name)\n",
    "\n",
    "    return job\n",
    "\n",
    "def load_jobs(db, experiment_name):\n",
    "    \"\"\"load the jobs from the database\n",
    "\n",
    "    Returns\n",
    "    -------\n",
    "    jobs : list\n",
    "        a list of jobs or an empty list\n",
    "    \"\"\"\n",
    "    jobs = db.load(experiment_name, 'jobs')\n",
    "\n",
    "    if jobs is None:\n",
    "        jobs = []\n",
    "    if isinstance(jobs, dict):\n",
    "        jobs = [jobs]\n",
    "\n",
    "    return jobs\n",
    "\n",
    "def save_job(job, db, experiment_name):\n",
    "    \"\"\"save a job to the database\"\"\"\n",
    "    db.save(job, experiment_name, 'jobs', {'id' : job['id']})\n",
    "\n",
    "def tired(db, experiment_name, resource):\n",
    "    \"\"\"\n",
    "    return True if resources is not accepting jobs\n",
    "    \"\"\"\n",
    "    jobs = load_jobs(db, experiment_name)\n",
    "    if resource.accepting_jobs(jobs):\n",
    "        return False\n",
    "    return True\n",
    "\n",
    "def build_emulator(db, experiment_name, options):\n",
    "    jobs = load_jobs(db, experiment_name)\n",
    "    num_jobs = len(jobs)\n",
    "    num_param = len(options['variables'])\n",
    "    # init arrays\n",
    "    y = np.zeros((num_jobs,1))\n",
    "    x = np.zeros((num_jobs,num_param))\n",
    "    i = 0\n",
    "    for job in jobs:\n",
    "        y[i] = job['result']\n",
    "        j=0\n",
    "        print(\"job['params']{} \".format(job['params']))\n",
    "        for param in job['params']:\n",
    "            print(\"param{} \".format(param))\n",
    "            x[i,j]=job['params'][param]['values']\n",
    "            j+=1\n",
    "            #params[key]['values']=suggestion[i]\n",
    "\n",
    "        i+=1\n",
    "    my_emulator = GPEmulator(x,y,options['variables'])\n",
    "    mean_mean, var_mean = my_emulator.compute_mean()\n",
    "    print('Mean{} '.format(mean_mean))\n",
    "    print('Variance of Mean{} '.format(var_mean))\n",
    "\n",
    "    return my_emulator\n"
   ]
  },
  {
   "cell_type": "markdown",
   "metadata": {},
   "source": [
    "Make sure that MongoDB is actually running by typing\n",
    "`ps -ef | grep mongod | grep -v grep | wc -l | tr -d ' '`\n",
    "\n",
    "If not start it by\n",
    "\n",
    "\n",
    "`mongod --dbpath <path to data directory>`"
   ]
  },
  {
   "cell_type": "code",
   "execution_count": 4,
   "metadata": {},
   "outputs": [
    {
     "name": "stderr",
     "output_type": "stream",
     "text": [
      "Using database at localhost:27017.\n"
     ]
    }
   ],
   "source": [
    "# create resource\n",
    "resources = parse_resources_from_configuration(options)\n",
    "\n",
    " # connect to the database\n",
    "db_address = options['database']['address']\n",
    "experiment_name = options['experiment-name']\n",
    "\n",
    "sys.stderr.write('Using database at %s.\\n' % db_address)\n",
    "db   = MongoDB(database_address=db_address)\n",
    "\n",
    "# create designer\n",
    "designer = DesignerFactory.create_designer(options['designer']['type'],\n",
    "                                           options['variables'],\n",
    "                                           options['designer']['seed'],\n",
    "                                           options['designer']['num_samples'])\n",
    "\n",
    "suggester = designer.sample_generator()\n",
    "\n"
   ]
  },
  {
   "cell_type": "markdown",
   "metadata": {},
   "source": [
    "Run Analysis"
   ]
  },
  {
   "cell_type": "code",
   "execution_count": 8,
   "metadata": {},
   "outputs": [
    {
     "name": "stdout",
     "output_type": "stream",
     "text": [
      "Created new job\n",
      "starting process\n",
      "output_file<_io.TextIOWrapper name='/Users/jonas/work/adco/queens_code/pqueens/example_input_files/output/00000001.out' mode='w' encoding='UTF-8'>\n",
      "suggested_job[statusnew \n"
     ]
    },
    {
     "name": "stderr",
     "output_type": "stream",
     "text": [
      "Submitted job as process: 18268\n",
      "Submitted job 1 with local scheduler (process id: 18268).\n",
      "\n",
      "Resources:      NAME          PENDING    COMPLETE\n",
      "                ----          -------    --------\n",
      "                my-machine    1          0         \n",
      "                *TOTAL*       1          0         \n",
      "\n",
      "\n",
      "Resources:      NAME          PENDING    COMPLETE\n",
      "                ----          -------    --------\n",
      "                my-machine    1          0         \n",
      "                *TOTAL*       1          0         \n",
      "\n",
      "\n",
      "Resources:      NAME          PENDING    COMPLETE\n",
      "                ----          -------    --------\n",
      "                my-machine    1          0         \n",
      "                *TOTAL*       1          0         \n",
      "\n",
      "\n",
      "Resources:      NAME          PENDING    COMPLETE\n",
      "                ----          -------    --------\n",
      "                my-machine    0          1         \n",
      "                *TOTAL*       0          1         \n",
      "\n",
      "Submitted job as process: 18282\n",
      "Submitted job 2 with local scheduler (process id: 18282).\n",
      "\n",
      "Resources:      NAME          PENDING    COMPLETE\n",
      "                ----          -------    --------\n",
      "                my-machine    1          1         \n",
      "                *TOTAL*       1          1         \n",
      "\n",
      "\n",
      "Resources:      NAME          PENDING    COMPLETE\n",
      "                ----          -------    --------\n",
      "                my-machine    1          1         \n",
      "                *TOTAL*       1          1         \n",
      "\n"
     ]
    },
    {
     "name": "stdout",
     "output_type": "stream",
     "text": [
      "Created new job\n",
      "starting process\n",
      "output_file<_io.TextIOWrapper name='/Users/jonas/work/adco/queens_code/pqueens/example_input_files/output/00000002.out' mode='w' encoding='UTF-8'>\n",
      "suggested_job[statusnew \n"
     ]
    },
    {
     "name": "stderr",
     "output_type": "stream",
     "text": [
      "\n",
      "Resources:      NAME          PENDING    COMPLETE\n",
      "                ----          -------    --------\n",
      "                my-machine    1          1         \n",
      "                *TOTAL*       1          1         \n",
      "\n",
      "\n",
      "Resources:      NAME          PENDING    COMPLETE\n",
      "                ----          -------    --------\n",
      "                my-machine    0          2         \n",
      "                *TOTAL*       0          2         \n",
      "\n",
      "Submitted job as process: 18300\n",
      "Submitted job 3 with local scheduler (process id: 18300).\n",
      "\n",
      "Resources:      NAME          PENDING    COMPLETE\n",
      "                ----          -------    --------\n",
      "                my-machine    1          2         \n",
      "                *TOTAL*       1          2         \n",
      "\n",
      "\n",
      "Resources:      NAME          PENDING    COMPLETE\n",
      "                ----          -------    --------\n",
      "                my-machine    1          2         \n",
      "                *TOTAL*       1          2         \n",
      "\n"
     ]
    },
    {
     "name": "stdout",
     "output_type": "stream",
     "text": [
      "Created new job\n",
      "starting process\n",
      "output_file<_io.TextIOWrapper name='/Users/jonas/work/adco/queens_code/pqueens/example_input_files/output/00000003.out' mode='w' encoding='UTF-8'>\n",
      "suggested_job[statusnew \n"
     ]
    },
    {
     "name": "stderr",
     "output_type": "stream",
     "text": [
      "\n",
      "Resources:      NAME          PENDING    COMPLETE\n",
      "                ----          -------    --------\n",
      "                my-machine    1          2         \n",
      "                *TOTAL*       1          2         \n",
      "\n",
      "\n",
      "Resources:      NAME          PENDING    COMPLETE\n",
      "                ----          -------    --------\n",
      "                my-machine    0          3         \n",
      "                *TOTAL*       0          3         \n",
      "\n",
      "Submitted job as process: 18313\n",
      "Submitted job 4 with local scheduler (process id: 18313).\n",
      "\n",
      "Resources:      NAME          PENDING    COMPLETE\n",
      "                ----          -------    --------\n",
      "                my-machine    1          3         \n",
      "                *TOTAL*       1          3         \n",
      "\n",
      "\n",
      "Resources:      NAME          PENDING    COMPLETE\n",
      "                ----          -------    --------\n",
      "                my-machine    1          3         \n",
      "                *TOTAL*       1          3         \n",
      "\n"
     ]
    },
    {
     "name": "stdout",
     "output_type": "stream",
     "text": [
      "Created new job\n",
      "starting process\n",
      "output_file<_io.TextIOWrapper name='/Users/jonas/work/adco/queens_code/pqueens/example_input_files/output/00000004.out' mode='w' encoding='UTF-8'>\n",
      "suggested_job[statusnew \n"
     ]
    },
    {
     "name": "stderr",
     "output_type": "stream",
     "text": [
      "\n",
      "Resources:      NAME          PENDING    COMPLETE\n",
      "                ----          -------    --------\n",
      "                my-machine    1          3         \n",
      "                *TOTAL*       1          3         \n",
      "\n",
      "\n",
      "Resources:      NAME          PENDING    COMPLETE\n",
      "                ----          -------    --------\n",
      "                my-machine    0          4         \n",
      "                *TOTAL*       0          4         \n",
      "\n",
      "Submitted job as process: 18325\n",
      "Submitted job 5 with local scheduler (process id: 18325).\n",
      "\n",
      "Resources:      NAME          PENDING    COMPLETE\n",
      "                ----          -------    --------\n",
      "                my-machine    1          4         \n",
      "                *TOTAL*       1          4         \n",
      "\n",
      "\n",
      "Resources:      NAME          PENDING    COMPLETE\n",
      "                ----          -------    --------\n",
      "                my-machine    1          4         \n",
      "                *TOTAL*       1          4         \n",
      "\n"
     ]
    },
    {
     "name": "stdout",
     "output_type": "stream",
     "text": [
      "Created new job\n",
      "starting process\n",
      "output_file<_io.TextIOWrapper name='/Users/jonas/work/adco/queens_code/pqueens/example_input_files/output/00000005.out' mode='w' encoding='UTF-8'>\n",
      "suggested_job[statusnew \n"
     ]
    },
    {
     "name": "stderr",
     "output_type": "stream",
     "text": [
      "\n",
      "Resources:      NAME          PENDING    COMPLETE\n",
      "                ----          -------    --------\n",
      "                my-machine    1          4         \n",
      "                *TOTAL*       1          4         \n",
      "\n",
      "\n",
      "Resources:      NAME          PENDING    COMPLETE\n",
      "                ----          -------    --------\n",
      "                my-machine    0          5         \n",
      "                *TOTAL*       0          5         \n",
      "\n",
      "Submitted job as process: 18337\n",
      "Submitted job 6 with local scheduler (process id: 18337).\n",
      "\n",
      "Resources:      NAME          PENDING    COMPLETE\n",
      "                ----          -------    --------\n",
      "                my-machine    1          5         \n",
      "                *TOTAL*       1          5         \n",
      "\n",
      "\n",
      "Resources:      NAME          PENDING    COMPLETE\n",
      "                ----          -------    --------\n",
      "                my-machine    1          5         \n",
      "                *TOTAL*       1          5         \n",
      "\n"
     ]
    },
    {
     "name": "stdout",
     "output_type": "stream",
     "text": [
      "Created new job\n",
      "starting process\n",
      "output_file<_io.TextIOWrapper name='/Users/jonas/work/adco/queens_code/pqueens/example_input_files/output/00000006.out' mode='w' encoding='UTF-8'>\n",
      "suggested_job[statusnew \n"
     ]
    },
    {
     "name": "stderr",
     "output_type": "stream",
     "text": [
      "\n",
      "Resources:      NAME          PENDING    COMPLETE\n",
      "                ----          -------    --------\n",
      "                my-machine    1          5         \n",
      "                *TOTAL*       1          5         \n",
      "\n",
      "\n",
      "Resources:      NAME          PENDING    COMPLETE\n",
      "                ----          -------    --------\n",
      "                my-machine    0          6         \n",
      "                *TOTAL*       0          6         \n",
      "\n",
      "Submitted job as process: 18351\n",
      "Submitted job 7 with local scheduler (process id: 18351).\n",
      "\n",
      "Resources:      NAME          PENDING    COMPLETE\n",
      "                ----          -------    --------\n",
      "                my-machine    1          6         \n",
      "                *TOTAL*       1          6         \n",
      "\n",
      "\n",
      "Resources:      NAME          PENDING    COMPLETE\n",
      "                ----          -------    --------\n",
      "                my-machine    1          6         \n",
      "                *TOTAL*       1          6         \n",
      "\n"
     ]
    },
    {
     "name": "stdout",
     "output_type": "stream",
     "text": [
      "Created new job\n",
      "starting process\n",
      "output_file<_io.TextIOWrapper name='/Users/jonas/work/adco/queens_code/pqueens/example_input_files/output/00000007.out' mode='w' encoding='UTF-8'>\n",
      "suggested_job[statusnew \n"
     ]
    },
    {
     "name": "stderr",
     "output_type": "stream",
     "text": [
      "\n",
      "Resources:      NAME          PENDING    COMPLETE\n",
      "                ----          -------    --------\n",
      "                my-machine    1          6         \n",
      "                *TOTAL*       1          6         \n",
      "\n",
      "\n",
      "Resources:      NAME          PENDING    COMPLETE\n",
      "                ----          -------    --------\n",
      "                my-machine    0          7         \n",
      "                *TOTAL*       0          7         \n",
      "\n",
      "Submitted job as process: 18363\n",
      "Submitted job 8 with local scheduler (process id: 18363).\n",
      "\n",
      "Resources:      NAME          PENDING    COMPLETE\n",
      "                ----          -------    --------\n",
      "                my-machine    1          7         \n",
      "                *TOTAL*       1          7         \n",
      "\n",
      "\n",
      "Resources:      NAME          PENDING    COMPLETE\n",
      "                ----          -------    --------\n",
      "                my-machine    1          7         \n",
      "                *TOTAL*       1          7         \n",
      "\n"
     ]
    },
    {
     "name": "stdout",
     "output_type": "stream",
     "text": [
      "Created new job\n",
      "starting process\n",
      "output_file<_io.TextIOWrapper name='/Users/jonas/work/adco/queens_code/pqueens/example_input_files/output/00000008.out' mode='w' encoding='UTF-8'>\n",
      "suggested_job[statusnew \n"
     ]
    },
    {
     "name": "stderr",
     "output_type": "stream",
     "text": [
      "\n",
      "Resources:      NAME          PENDING    COMPLETE\n",
      "                ----          -------    --------\n",
      "                my-machine    1          7         \n",
      "                *TOTAL*       1          7         \n",
      "\n",
      "\n",
      "Resources:      NAME          PENDING    COMPLETE\n",
      "                ----          -------    --------\n",
      "                my-machine    0          8         \n",
      "                *TOTAL*       0          8         \n",
      "\n",
      "Submitted job as process: 18378\n",
      "Submitted job 9 with local scheduler (process id: 18378).\n",
      "\n",
      "Resources:      NAME          PENDING    COMPLETE\n",
      "                ----          -------    --------\n",
      "                my-machine    1          8         \n",
      "                *TOTAL*       1          8         \n",
      "\n",
      "\n",
      "Resources:      NAME          PENDING    COMPLETE\n",
      "                ----          -------    --------\n",
      "                my-machine    1          8         \n",
      "                *TOTAL*       1          8         \n",
      "\n"
     ]
    },
    {
     "name": "stdout",
     "output_type": "stream",
     "text": [
      "Created new job\n",
      "starting process\n",
      "output_file<_io.TextIOWrapper name='/Users/jonas/work/adco/queens_code/pqueens/example_input_files/output/00000009.out' mode='w' encoding='UTF-8'>\n",
      "suggested_job[statusnew \n"
     ]
    },
    {
     "name": "stderr",
     "output_type": "stream",
     "text": [
      "\n",
      "Resources:      NAME          PENDING    COMPLETE\n",
      "                ----          -------    --------\n",
      "                my-machine    1          8         \n",
      "                *TOTAL*       1          8         \n",
      "\n",
      "\n",
      "Resources:      NAME          PENDING    COMPLETE\n",
      "                ----          -------    --------\n",
      "                my-machine    0          9         \n",
      "                *TOTAL*       0          9         \n",
      "\n",
      "Submitted job as process: 18392\n",
      "Submitted job 10 with local scheduler (process id: 18392).\n",
      "\n",
      "Resources:      NAME          PENDING    COMPLETE\n",
      "                ----          -------    --------\n",
      "                my-machine    1          9         \n",
      "                *TOTAL*       1          9         \n",
      "\n",
      "\n",
      "Resources:      NAME          PENDING    COMPLETE\n",
      "                ----          -------    --------\n",
      "                my-machine    1          9         \n",
      "                *TOTAL*       1          9         \n",
      "\n"
     ]
    },
    {
     "name": "stdout",
     "output_type": "stream",
     "text": [
      "Created new job\n",
      "starting process\n",
      "output_file<_io.TextIOWrapper name='/Users/jonas/work/adco/queens_code/pqueens/example_input_files/output/00000010.out' mode='w' encoding='UTF-8'>\n",
      "suggested_job[statusnew \n"
     ]
    },
    {
     "name": "stderr",
     "output_type": "stream",
     "text": [
      "\n",
      "Resources:      NAME          PENDING    COMPLETE\n",
      "                ----          -------    --------\n",
      "                my-machine    0          10        \n",
      "                *TOTAL*       0          10        \n",
      "\n",
      "Submitted job as process: 18403\n",
      "Submitted job 11 with local scheduler (process id: 18403).\n",
      "\n",
      "Resources:      NAME          PENDING    COMPLETE\n",
      "                ----          -------    --------\n",
      "                my-machine    1          10        \n",
      "                *TOTAL*       1          10        \n",
      "\n",
      "\n",
      "Resources:      NAME          PENDING    COMPLETE\n",
      "                ----          -------    --------\n",
      "                my-machine    1          10        \n",
      "                *TOTAL*       1          10        \n",
      "\n"
     ]
    },
    {
     "name": "stdout",
     "output_type": "stream",
     "text": [
      "Created new job\n",
      "starting process\n",
      "output_file<_io.TextIOWrapper name='/Users/jonas/work/adco/queens_code/pqueens/example_input_files/output/00000011.out' mode='w' encoding='UTF-8'>\n",
      "suggested_job[statusnew \n"
     ]
    },
    {
     "name": "stderr",
     "output_type": "stream",
     "text": [
      "\n",
      "Resources:      NAME          PENDING    COMPLETE\n",
      "                ----          -------    --------\n",
      "                my-machine    1          10        \n",
      "                *TOTAL*       1          10        \n",
      "\n",
      "\n",
      "Resources:      NAME          PENDING    COMPLETE\n",
      "                ----          -------    --------\n",
      "                my-machine    0          11        \n",
      "                *TOTAL*       0          11        \n",
      "\n",
      "Submitted job as process: 18417\n",
      "Submitted job 12 with local scheduler (process id: 18417).\n",
      "\n",
      "Resources:      NAME          PENDING    COMPLETE\n",
      "                ----          -------    --------\n",
      "                my-machine    1          11        \n",
      "                *TOTAL*       1          11        \n",
      "\n",
      "\n",
      "Resources:      NAME          PENDING    COMPLETE\n",
      "                ----          -------    --------\n",
      "                my-machine    1          11        \n",
      "                *TOTAL*       1          11        \n",
      "\n"
     ]
    },
    {
     "name": "stdout",
     "output_type": "stream",
     "text": [
      "Created new job\n",
      "starting process\n",
      "output_file<_io.TextIOWrapper name='/Users/jonas/work/adco/queens_code/pqueens/example_input_files/output/00000012.out' mode='w' encoding='UTF-8'>\n",
      "suggested_job[statusnew \n"
     ]
    },
    {
     "name": "stderr",
     "output_type": "stream",
     "text": [
      "\n",
      "Resources:      NAME          PENDING    COMPLETE\n",
      "                ----          -------    --------\n",
      "                my-machine    1          11        \n",
      "                *TOTAL*       1          11        \n",
      "\n",
      "\n",
      "Resources:      NAME          PENDING    COMPLETE\n",
      "                ----          -------    --------\n",
      "                my-machine    0          12        \n",
      "                *TOTAL*       0          12        \n",
      "\n",
      "Submitted job as process: 18430\n",
      "Submitted job 13 with local scheduler (process id: 18430).\n",
      "\n",
      "Resources:      NAME          PENDING    COMPLETE\n",
      "                ----          -------    --------\n",
      "                my-machine    1          12        \n",
      "                *TOTAL*       1          12        \n",
      "\n",
      "\n",
      "Resources:      NAME          PENDING    COMPLETE\n",
      "                ----          -------    --------\n",
      "                my-machine    1          12        \n",
      "                *TOTAL*       1          12        \n",
      "\n"
     ]
    },
    {
     "name": "stdout",
     "output_type": "stream",
     "text": [
      "Created new job\n",
      "starting process\n",
      "output_file<_io.TextIOWrapper name='/Users/jonas/work/adco/queens_code/pqueens/example_input_files/output/00000013.out' mode='w' encoding='UTF-8'>\n",
      "suggested_job[statusnew \n"
     ]
    },
    {
     "name": "stderr",
     "output_type": "stream",
     "text": [
      "\n",
      "Resources:      NAME          PENDING    COMPLETE\n",
      "                ----          -------    --------\n",
      "                my-machine    1          12        \n",
      "                *TOTAL*       1          12        \n",
      "\n",
      "\n",
      "Resources:      NAME          PENDING    COMPLETE\n",
      "                ----          -------    --------\n",
      "                my-machine    0          13        \n",
      "                *TOTAL*       0          13        \n",
      "\n",
      "Submitted job as process: 18441\n",
      "Submitted job 14 with local scheduler (process id: 18441).\n",
      "\n",
      "Resources:      NAME          PENDING    COMPLETE\n",
      "                ----          -------    --------\n",
      "                my-machine    1          13        \n",
      "                *TOTAL*       1          13        \n",
      "\n",
      "\n",
      "Resources:      NAME          PENDING    COMPLETE\n",
      "                ----          -------    --------\n",
      "                my-machine    1          13        \n",
      "                *TOTAL*       1          13        \n",
      "\n"
     ]
    },
    {
     "name": "stdout",
     "output_type": "stream",
     "text": [
      "Created new job\n",
      "starting process\n",
      "output_file<_io.TextIOWrapper name='/Users/jonas/work/adco/queens_code/pqueens/example_input_files/output/00000014.out' mode='w' encoding='UTF-8'>\n",
      "suggested_job[statusnew \n"
     ]
    },
    {
     "name": "stderr",
     "output_type": "stream",
     "text": [
      "\n",
      "Resources:      NAME          PENDING    COMPLETE\n",
      "                ----          -------    --------\n",
      "                my-machine    1          13        \n",
      "                *TOTAL*       1          13        \n",
      "\n",
      "\n",
      "Resources:      NAME          PENDING    COMPLETE\n",
      "                ----          -------    --------\n",
      "                my-machine    0          14        \n",
      "                *TOTAL*       0          14        \n",
      "\n",
      "Submitted job as process: 18454\n",
      "Submitted job 15 with local scheduler (process id: 18454).\n",
      "\n",
      "Resources:      NAME          PENDING    COMPLETE\n",
      "                ----          -------    --------\n",
      "                my-machine    1          14        \n",
      "                *TOTAL*       1          14        \n",
      "\n",
      "\n",
      "Resources:      NAME          PENDING    COMPLETE\n",
      "                ----          -------    --------\n",
      "                my-machine    1          14        \n",
      "                *TOTAL*       1          14        \n",
      "\n"
     ]
    },
    {
     "name": "stdout",
     "output_type": "stream",
     "text": [
      "Created new job\n",
      "starting process\n",
      "output_file<_io.TextIOWrapper name='/Users/jonas/work/adco/queens_code/pqueens/example_input_files/output/00000015.out' mode='w' encoding='UTF-8'>\n",
      "suggested_job[statusnew \n"
     ]
    },
    {
     "name": "stderr",
     "output_type": "stream",
     "text": [
      "\n",
      "Resources:      NAME          PENDING    COMPLETE\n",
      "                ----          -------    --------\n",
      "                my-machine    1          14        \n",
      "                *TOTAL*       1          14        \n",
      "\n"
     ]
    },
    {
     "name": "stdout",
     "output_type": "stream",
     "text": [
      "Created new job\n",
      "starting process\n",
      "output_file<_io.TextIOWrapper name='/Users/jonas/work/adco/queens_code/pqueens/example_input_files/output/00000016.out' mode='w' encoding='UTF-8'>\n",
      "suggested_job[statusnew \n"
     ]
    },
    {
     "name": "stderr",
     "output_type": "stream",
     "text": [
      "\n",
      "Resources:      NAME          PENDING    COMPLETE\n",
      "                ----          -------    --------\n",
      "                my-machine    0          15        \n",
      "                *TOTAL*       0          15        \n",
      "\n",
      "Submitted job as process: 18467\n",
      "Submitted job 16 with local scheduler (process id: 18467).\n",
      "\n",
      "Resources:      NAME          PENDING    COMPLETE\n",
      "                ----          -------    --------\n",
      "                my-machine    1          15        \n",
      "                *TOTAL*       1          15        \n",
      "\n",
      "\n",
      "Resources:      NAME          PENDING    COMPLETE\n",
      "                ----          -------    --------\n",
      "                my-machine    1          15        \n",
      "                *TOTAL*       1          15        \n",
      "\n"
     ]
    }
   ],
   "source": [
    "jobs = load_jobs(db, experiment_name)\n",
    "for suggestion in suggester:\n",
    "    processed_suggestion = False\n",
    "    while not processed_suggestion:\n",
    "        if resources['my-machine'].accepting_jobs(jobs):\n",
    "\n",
    "            new_job = create_new_job(db,suggestion,experiment_name,options,'my-machine')\n",
    "\n",
    "            # Submit the job to the appropriate resource\n",
    "            process_id = resources['my-machine'].attempt_dispatch(experiment_name,\n",
    "                                                                  new_job, db_address,\n",
    "                                                                  options['output_dir'])\n",
    "\n",
    "            # Set the status of the job appropriately (successfully submitted or not)\n",
    "            if process_id is None:\n",
    "                new_job['status'] = 'broken'\n",
    "                save_job(new_job, db, experiment_name)\n",
    "            else:\n",
    "                print(\"suggested_job[status{} \".format(new_job['status']))\n",
    "                new_job['status'] = 'pending'\n",
    "                new_job['proc_id'] = process_id\n",
    "                save_job(new_job, db, experiment_name)\n",
    "\n",
    "            processed_suggestion = True\n",
    "            jobs = load_jobs(db, experiment_name)\n",
    "            print_resources_status(resources, jobs)\n",
    "\n",
    "        else: # tired(db, experiment_name, resources['my-machine']):\n",
    "            time.sleep(options.get('polling-time', 5))\n",
    "            jobs = load_jobs(db, experiment_name)\n",
    "\n",
    "\n",
    "        print_resources_status(resources, jobs)\n",
    "#time.sleep(options.get('polling-time', 30))\n",
    "#build_emulator(db, experiment_name, options)\n",
    "# create emulator"
   ]
  },
  {
   "cell_type": "code",
   "execution_count": 9,
   "metadata": {},
   "outputs": [
    {
     "name": "stdout",
     "output_type": "stream",
     "text": [
      "job['params']{'beta': {'distribution': 'normal', 'type': 'FLOAT', 'distribution_parameter': [400000, 10000], 'values': 2297667.8503530347, 'max': 5000000, 'size': 1, 'min': 1500000}, 'youngs': {'distribution': 'normal', 'type': 'FLOAT', 'distribution_parameter': [400000, 10000], 'values': 2853356.202855057, 'max': 5000000, 'size': 1, 'min': 1000000}} \n",
      "parambeta \n",
      "paramyoungs \n",
      "job['params']{'beta': {'distribution': 'normal', 'type': 'FLOAT', 'distribution_parameter': [400000, 10000], 'values': 3692913.552080499, 'max': 5000000, 'size': 1, 'min': 1500000}, 'youngs': {'distribution': 'normal', 'type': 'FLOAT', 'distribution_parameter': [400000, 10000], 'values': 1306817.8838750883, 'max': 5000000, 'size': 1, 'min': 1000000}} \n",
      "parambeta \n",
      "paramyoungs \n",
      "job['params']{'beta': {'distribution': 'normal', 'type': 'FLOAT', 'distribution_parameter': [400000, 10000], 'values': 2386356.143244072, 'max': 5000000, 'size': 1, 'min': 1500000}, 'youngs': {'distribution': 'normal', 'type': 'FLOAT', 'distribution_parameter': [400000, 10000], 'values': 3536141.0903109536, 'max': 5000000, 'size': 1, 'min': 1000000}} \n",
      "parambeta \n",
      "paramyoungs \n",
      "job['params']{'beta': {'distribution': 'normal', 'type': 'FLOAT', 'distribution_parameter': [400000, 10000], 'values': 2849647.3532367777, 'max': 5000000, 'size': 1, 'min': 1500000}, 'youngs': {'distribution': 'normal', 'type': 'FLOAT', 'distribution_parameter': [400000, 10000], 'values': 3082207.4026636463, 'max': 5000000, 'size': 1, 'min': 1000000}} \n",
      "parambeta \n",
      "paramyoungs \n",
      "job['params']{'beta': {'distribution': 'normal', 'type': 'FLOAT', 'distribution_parameter': [400000, 10000], 'values': 3255783.878257596, 'max': 5000000, 'size': 1, 'min': 1500000}, 'youngs': {'distribution': 'normal', 'type': 'FLOAT', 'distribution_parameter': [400000, 10000], 'values': 2539260.854567958, 'max': 5000000, 'size': 1, 'min': 1000000}} \n",
      "parambeta \n",
      "paramyoungs \n",
      "job['params']{'beta': {'distribution': 'normal', 'type': 'FLOAT', 'distribution_parameter': [400000, 10000], 'values': 1759845.2449878221, 'max': 5000000, 'size': 1, 'min': 1500000}, 'youngs': {'distribution': 'normal', 'type': 'FLOAT', 'distribution_parameter': [400000, 10000], 'values': 1060956.251631606, 'max': 5000000, 'size': 1, 'min': 1000000}} \n",
      "parambeta \n",
      "paramyoungs \n",
      "job['params']{'beta': {'distribution': 'normal', 'type': 'FLOAT', 'distribution_parameter': [400000, 10000], 'values': 1528814.7743000148, 'max': 5000000, 'size': 1, 'min': 1500000}, 'youngs': {'distribution': 'normal', 'type': 'FLOAT', 'distribution_parameter': [400000, 10000], 'values': 2629617.38599068, 'max': 5000000, 'size': 1, 'min': 1000000}} \n",
      "parambeta \n",
      "paramyoungs \n",
      "job['params']{'beta': {'distribution': 'normal', 'type': 'FLOAT', 'distribution_parameter': [400000, 10000], 'values': 4167377.9891985497, 'max': 5000000, 'size': 1, 'min': 1500000}, 'youngs': {'distribution': 'normal', 'type': 'FLOAT', 'distribution_parameter': [400000, 10000], 'values': 3689556.6329146186, 'max': 5000000, 'size': 1, 'min': 1000000}} \n",
      "parambeta \n",
      "paramyoungs \n",
      "job['params']{'beta': {'distribution': 'normal', 'type': 'FLOAT', 'distribution_parameter': [400000, 10000], 'values': 2054450.9323802628, 'max': 5000000, 'size': 1, 'min': 1500000}, 'youngs': {'distribution': 'normal', 'type': 'FLOAT', 'distribution_parameter': [400000, 10000], 'values': 2250783.0827868693, 'max': 5000000, 'size': 1, 'min': 1000000}} \n",
      "parambeta \n",
      "paramyoungs \n",
      "job['params']{'beta': {'distribution': 'normal', 'type': 'FLOAT', 'distribution_parameter': [400000, 10000], 'values': 3074604.584883565, 'max': 5000000, 'size': 1, 'min': 1500000}, 'youngs': {'distribution': 'normal', 'type': 'FLOAT', 'distribution_parameter': [400000, 10000], 'values': 4596684.628178969, 'max': 5000000, 'size': 1, 'min': 1000000}} \n",
      "parambeta \n",
      "paramyoungs \n",
      "job['params']{'beta': {'distribution': 'normal', 'type': 'FLOAT', 'distribution_parameter': [400000, 10000], 'values': 4789710.396872297, 'max': 5000000, 'size': 1, 'min': 1500000}, 'youngs': {'distribution': 'normal', 'type': 'FLOAT', 'distribution_parameter': [400000, 10000], 'values': 4360627.951275979, 'max': 5000000, 'size': 1, 'min': 1000000}} \n",
      "parambeta \n",
      "paramyoungs \n",
      "job['params']{'beta': {'distribution': 'normal', 'type': 'FLOAT', 'distribution_parameter': [400000, 10000], 'values': 3536011.485322739, 'max': 5000000, 'size': 1, 'min': 1500000}, 'youngs': {'distribution': 'normal', 'type': 'FLOAT', 'distribution_parameter': [400000, 10000], 'values': 3918539.344775879, 'max': 5000000, 'size': 1, 'min': 1000000}} \n",
      "parambeta \n",
      "paramyoungs \n",
      "job['params']{'beta': {'distribution': 'normal', 'type': 'FLOAT', 'distribution_parameter': [400000, 10000], 'values': 2593203.3109967555, 'max': 5000000, 'size': 1, 'min': 1500000}, 'youngs': {'distribution': 'normal', 'type': 'FLOAT', 'distribution_parameter': [400000, 10000], 'values': 4763286.374643877, 'max': 5000000, 'size': 1, 'min': 1000000}} \n",
      "parambeta \n",
      "paramyoungs \n",
      "job['params']{'beta': {'distribution': 'normal', 'type': 'FLOAT', 'distribution_parameter': [400000, 10000], 'values': 1897147.1584147413, 'max': 5000000, 'size': 1, 'min': 1500000}, 'youngs': {'distribution': 'normal', 'type': 'FLOAT', 'distribution_parameter': [400000, 10000], 'values': 1648825.1044495548, 'max': 5000000, 'size': 1, 'min': 1000000}} \n",
      "parambeta \n",
      "paramyoungs \n",
      "job['params']{'beta': {'distribution': 'normal', 'type': 'FLOAT', 'distribution_parameter': [400000, 10000], 'values': 3245907.6172707146, 'max': 5000000, 'size': 1, 'min': 1500000}, 'youngs': {'distribution': 'normal', 'type': 'FLOAT', 'distribution_parameter': [400000, 10000], 'values': 1538487.206578054, 'max': 5000000, 'size': 1, 'min': 1000000}} \n",
      "parambeta \n",
      "paramyoungs \n",
      "job['params']{'beta': {'distribution': 'normal', 'type': 'FLOAT', 'distribution_parameter': [400000, 10000], 'values': 4544794.277427796, 'max': 5000000, 'size': 1, 'min': 1500000}, 'youngs': {'distribution': 'normal', 'type': 'FLOAT', 'distribution_parameter': [400000, 10000], 'values': 4073930.8912122813, 'max': 5000000, 'size': 1, 'min': 1000000}} \n",
      "parambeta \n",
      "paramyoungs \n",
      "WARNING: reconstraining parameters GP_regression.Gaussian_noise.variance\n",
      "Optimization restart 1/30, f = 43.670459806403144\n",
      "Optimization restart 2/30, f = 43.67045980640165\n",
      "Optimization restart 3/30, f = 43.670459806716096\n",
      "Optimization restart 4/30, f = 43.67045980643181\n",
      "Optimization restart 5/30, f = 43.67045980640415\n",
      "Optimization restart 6/30, f = 43.670459806503544\n",
      "Optimization restart 7/30, f = 43.67045980641784\n",
      "Optimization restart 8/30, f = 43.67045980640228\n",
      "Optimization restart 9/30, f = 43.67045980683079\n",
      "Optimization restart 10/30, f = 43.67045980640165\n",
      "Optimization restart 11/30, f = 43.67045980642542\n",
      "Optimization restart 12/30, f = 43.67045980640218\n",
      "Optimization restart 13/30, f = 43.670459806401446\n",
      "Optimization restart 14/30, f = 43.6704598064111\n",
      "Optimization restart 15/30, f = 43.670459806676575\n",
      "Optimization restart 16/30, f = 43.670459806401524\n",
      "Optimization restart 17/30, f = 43.670459806404295\n",
      "Optimization restart 18/30, f = 43.67045980665101\n",
      "Optimization restart 19/30, f = 43.67045980705051\n",
      "Optimization restart 20/30, f = 43.670459806626496\n",
      "Optimization restart 21/30, f = 43.67045980640144\n",
      "Optimization restart 22/30, f = 43.67045980640254\n",
      "Optimization restart 23/30, f = 43.67045980671104\n",
      "Optimization restart 24/30, f = 43.67045980641357\n",
      "Optimization restart 25/30, f = 43.67045980640427\n",
      "Optimization restart 26/30, f = 43.67045980640144\n",
      "Optimization restart 27/30, f = 43.67045980640591\n",
      "Optimization restart 28/30, f = 43.67045980640148\n",
      "Optimization restart 29/30, f = 43.670459806526054\n",
      "Optimization restart 30/30, f = 43.67045980640244\n",
      "Mean-0.007424481461946964 \n",
      "Variance of Mean0.05970621282288946 \n"
     ]
    }
   ],
   "source": [
    "    my_emulator = build_emulator(db, experiment_name, options)"
   ]
  },
  {
   "cell_type": "code",
   "execution_count": 16,
   "metadata": {},
   "outputs": [
    {
     "data": {
      "image/png": "[encoded data removed]",
      "text/plain": [
       "<matplotlib.figure.Figure at 0x12b598518>"
      ]
     },
     "metadata": {},
     "output_type": "display_data"
    }
   ],
   "source": [
    "\n",
    "import matplotlib.pyplot as plt\n",
    "import seaborn as sns # makes plots more pretty \n",
    "import numpy as np\n",
    "\n",
    "my_pdf_hifi, y_plot_hifi  = my_emulator.compute_pdf()\n",
    "fig = plt.figure()\n",
    "fig.suptitle('Probability Density Function', fontsize=14)\n",
    "line1, = plt.plot(y_plot_hifi, my_pdf_hifi['mean'], lw=2, color='blue',label='GP mean')\n",
    "line2, = plt.plot(y_plot_hifi, my_pdf_hifi['median'], lw=2, color='green',label='GP median')\n",
    "plt.fill_between(y_plot_hifi,my_pdf_hifi['quant_low'], my_pdf_hifi['quant_high'],\n",
    "                  color='blue',alpha = 0.3,label='GP conf. reg.')\n",
    "\n",
    "plt.ylabel('pdf(y)')\n",
    "plt.xlabel('y')\n",
    "plt.legend()\n",
    "plt.show()\n"
   ]
  },
  {
   "cell_type": "code",
   "execution_count": 18,
   "metadata": {},
   "outputs": [
    {
     "data": {
      "text/plain": [
       "<matplotlib.figure.Figure at 0x12b5a1898>"
      ]
     },
     "metadata": {},
     "output_type": "display_data"
    },
    {
     "data": {
      "image/png": "[encoded data removed]",
      "text/plain": [
       "<matplotlib.figure.Figure at 0x12b5ee0f0>"
      ]
     },
     "metadata": {},
     "output_type": "display_data"
    }
   ],
   "source": [
    "cdf_val, sample_values = my_emulator.compute_cdf()\n",
    "\n",
    "fig = plt.figure()\n",
    "fig.suptitle('Cumulative Distribution Function', fontsize=14)\n",
    "x = np.append(sample_values['q_lower_bound'],\n",
    "              sample_values['q_upper_bound'][::-1])\n",
    "\n",
    "y = np.append(cdf_val,cdf_val[::-1])\n",
    "\n",
    "\n",
    "p = plt.Polygon(np.c_[x,y], color=\"blue\",alpha=0.3,label='GP conf. reg.')\n",
    "ax = plt.gca()\n",
    "ax.add_patch(p)\n",
    "line1, = plt.plot(sample_values['mean'], cdf_val, lw=2, color='blue',\n",
    "                  label='GP mean')\n",
    "line4, = plt.plot(sample_values['median'], cdf_val, lw=2, color='green',\n",
    "                  label='GP median')\n",
    "\n",
    "plt.legend()\n",
    "\n",
    "plt.ylabel('cdf(y)')\n",
    "plt.xlabel('y')\n",
    "plt.show()"
   ]
  },
  {
   "cell_type": "code",
   "execution_count": 20,
   "metadata": {},
   "outputs": [
    {
     "data": {
      "image/png": "[encoded data removed]",
      "text/plain": [
       "<matplotlib.figure.Figure at 0x128add710>"
      ]
     },
     "metadata": {},
     "output_type": "display_data"
    }
   ],
   "source": [
    "y_quantile, my_fail_prob = my_emulator.compute_failure_probability_function()\n",
    "fig = plt.figure()\n",
    "fig.suptitle('Failure Probability', fontsize=14)\n",
    "plt.ylabel('P_f(y_0)')\n",
    "plt.xlabel('y_0')\n",
    "\n",
    "line1, = plt.plot(y_quantile['mean'],my_fail_prob, lw=2, color='blue',label='GP mean')\n",
    "line2, = plt.plot(y_quantile['median'],my_fail_prob, lw=2, color='green',label='GP median')\n",
    "\n",
    "x = np.append(y_quantile['q_upper_bound'],\n",
    "              y_quantile['q_lower_bound'][::-1])\n",
    "\n",
    "y = np.append(my_fail_prob,my_fail_prob[::-1])\n",
    "\n",
    "p = plt.Polygon(np.c_[x,y], color=\"blue\",alpha=0.3,label='GP conf. reg.')\n",
    "ax = plt.gca()\n",
    "ax.add_patch(p)\n",
    "\n",
    "plt.legend()\n",
    "ax.set_yscale('log')\n",
    "plt.show()"
   ]
  },
  {
   "cell_type": "code",
   "execution_count": null,
   "metadata": {},
   "outputs": [],
   "source": []
  },
  {
   "cell_type": "code",
   "execution_count": null,
   "metadata": {
    "collapsed": true
   },
   "outputs": [],
   "source": []
  }
 ],
 "metadata": {
  "anaconda-cloud": {},
  "kernelspec": {
   "display_name": "Python (test)",
   "language": "python",
   "name": "test"
  },
  "language_info": {
   "codemirror_mode": {
    "name": "ipython",
    "version": 3
   },
   "file_extension": ".py",
   "mimetype": "text/x-python",
   "name": "python",
   "nbconvert_exporter": "python",
   "pygments_lexer": "ipython3",
   "version": "3.5.3"
  }
 },
 "nbformat": 4,
 "nbformat_minor": 1
}
