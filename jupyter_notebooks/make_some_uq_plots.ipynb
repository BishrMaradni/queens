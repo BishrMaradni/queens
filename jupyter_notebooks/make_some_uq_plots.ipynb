{
 "cells": [
  {
   "cell_type": "markdown",
   "metadata": {},
   "source": [
    "# Make some pretty UQ plots for white paper"
   ]
  },
  {
   "cell_type": "markdown",
   "metadata": {},
   "source": [
    "The purpose of this notebook is the creation of some nice visualization for UQ"
   ]
  },
  {
   "cell_type": "code",
   "execution_count": 28,
   "metadata": {},
   "outputs": [
    {
     "data": {
      "text/html": [
       "<script>requirejs.config({paths: { 'plotly': ['https://cdn.plot.ly/plotly-latest.min']},});if(!window.Plotly) {{require(['plotly'],function(plotly) {window.Plotly=plotly;});}}</script>"
      ],
      "text/vnd.plotly.v1+html": [
       "<script>requirejs.config({paths: { 'plotly': ['https://cdn.plot.ly/plotly-latest.min']},});if(!window.Plotly) {{require(['plotly'],function(plotly) {window.Plotly=plotly;});}}</script>"
      ]
     },
     "metadata": {},
     "output_type": "display_data"
    }
   ],
   "source": [
    "import plotly\n",
    "from plotly.offline import download_plotlyjs, init_notebook_mode, plot, iplot\n",
    "import plotly.graph_objs as go\n",
    "import plotly.plotly as py\n",
    "init_notebook_mode(connected=True)\n",
    "\n",
    "\n",
    "def plot_pdf(pdf_estimate_1, pdf_estimate_2, mean_1, mean_2, support_points, bayes=False):\n",
    "    \"\"\" Create pdf plot based on passed data\n",
    "\n",
    "        Args:\n",
    "            pdf_estimate   (dict):      Estimate of pdf at supporting points\n",
    "            support_points (np.array):  Supporting points\n",
    "            bayes (bool):               Do we want to plot confidence intervals\n",
    "    \"\"\"\n",
    "    mean_pdf_1 = go.Scatter(\n",
    "        x=support_points,\n",
    "        y=pdf_estimate_1[\"mean\"],\n",
    "        mode='markers-line',\n",
    "        name='Probabilistic Load',\n",
    "        fill='tozeroy'\n",
    "    )\n",
    "    mean_pdf_2 = go.Scatter(\n",
    "        x=support_points,\n",
    "        y=pdf_estimate_2[\"mean\"],\n",
    "        mode='line',\n",
    "        line = dict(\n",
    "            #color = ('#9467bd'),\n",
    "            color = ('#d62728'),\n",
    "            width = 2),\n",
    "        name='Probabilistic Strength',\n",
    "        fill='tozeroy'\n",
    "    )\n",
    "    mean_stuff_1 = go.Scatter(\n",
    "        x=mean_1[\"x\"],\n",
    "        y=mean_1[\"y\"],\n",
    "        line = dict(\n",
    "            color = ('#1f77b4'),\n",
    "            width = 6),\n",
    "        name='Deterministic Load'\n",
    "    )\n",
    "    mean_stuff_2 = go.Scatter(\n",
    "        x=mean_2[\"x\"],\n",
    "        y=mean_2[\"y\"],\n",
    "        line = dict(\n",
    "            #color = ('#9467bd'),\n",
    "            color = ('#d62728'),\n",
    "            width = 6),\n",
    "        name='Deterministic Strength'\n",
    "   )\n",
    "\n",
    "    data = [mean_pdf_1, mean_pdf_2, mean_stuff_1, mean_stuff_2]\n",
    "\n",
    "    layout = dict(title='',\n",
    "                  xaxis=dict(title='Stress'),\n",
    "                  yaxis=dict(title='Relative Frequency'),\n",
    "                  legend=dict(x=0.8, y=0.95),\n",
    "                 )\n",
    "\n",
    "    fig = go.Figure(data=data, layout=layout)\n",
    "    #py.image.save_as(fig, 'my_image.png', scale=3)\n",
    "    plotly.offline.plot(fig, image='png', image_width=2000/2, image_height=1125/2)\n",
    "  \n",
    "    #iplot(fig)"
   ]
  },
  {
   "cell_type": "code",
   "execution_count": 29,
   "metadata": {},
   "outputs": [],
   "source": [
    "import numpy as np\n",
    "from pqueens.utils.input_to_random_variable import get_random_samples\n",
    "from pqueens.utils.process_outputs import estimate_pdf\n",
    "from copy import deepcopy\n",
    "\n",
    "np.random.seed(42)\n",
    "\n",
    "# generate random sample\n",
    "my_var1 = {}\n",
    "my_var1[\"distribution\"] = \"lognormal\"\n",
    "my_var1[\"distribution_parameter\"] = [0,1]\n",
    "my_sample1 = {}\n",
    "my_sample1[\"mean\"] = get_random_samples(my_var1, 1000)+4\n",
    "\n",
    "my_var2 = {}\n",
    "my_var2[\"distribution\"] = \"gamma\"\n",
    "my_var2[\"distribution_parameter\"] = [2,2]\n",
    "my_sample2 = {}\n",
    "my_sample2[\"mean\"] = get_random_samples(my_var2, 1000)+10\n",
    "\n",
    "support_points = np.linspace(0.0, 30, 200)\n",
    "\n",
    "# fit pdf using queens\n",
    "pdf_est_1 = estimate_pdf(my_sample1, support_points, bayesian=False)\n",
    "pdf_est_2 = estimate_pdf(my_sample2, support_points, bayesian=False)\n",
    "\n",
    "# check if pdf actually does what it should\n",
    "mean_1 = {}\n",
    "temp = np.mean(my_sample1[\"mean\"])\n",
    "mean_1[\"x\"] = (np.ones((10))*temp).tolist()\n",
    "mean_1[\"y\"] = np.linspace(0,0.2,10).tolist()\n",
    "\n",
    "mean_2 = {}\n",
    "temp = np.mean(my_sample2[\"mean\"])\n",
    "mean_2[\"x\"] = (np.ones((10))*temp).tolist()\n",
    "mean_2[\"y\"] = np.linspace(0,0.2,10).tolist()\n",
    "\n"
   ]
  },
  {
   "cell_type": "code",
   "execution_count": 30,
   "metadata": {},
   "outputs": [],
   "source": [
    "plot_pdf(pdf_est_1, pdf_est_2, mean_1, mean_2, support_points, bayes=False)"
   ]
  },
  {
   "cell_type": "markdown",
   "metadata": {
    "collapsed": true
   },
   "source": [
    "\n"
   ]
  },
  {
   "cell_type": "code",
   "execution_count": null,
   "metadata": {
    "collapsed": true
   },
   "outputs": [],
   "source": []
  },
  {
   "cell_type": "code",
   "execution_count": null,
   "metadata": {
    "collapsed": true
   },
   "outputs": [],
   "source": []
  },
  {
   "cell_type": "code",
   "execution_count": null,
   "metadata": {
    "collapsed": true
   },
   "outputs": [],
   "source": []
  }
 ],
 "metadata": {
  "kernelspec": {
   "display_name": "Python (test)",
   "language": "python",
   "name": "test"
  },
  "language_info": {
   "codemirror_mode": {
    "name": "ipython",
    "version": 3
   },
   "file_extension": ".py",
   "mimetype": "text/x-python",
   "name": "python",
   "nbconvert_exporter": "python",
   "pygments_lexer": "ipython3",
   "version": "3.6.2"
  }
 },
 "nbformat": 4,
 "nbformat_minor": 2
}
