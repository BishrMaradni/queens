{
 "cells": [
  {
   "cell_type": "code",
   "execution_count": null,
   "id": "f6361d01",
   "metadata": {
    "nbsphinx": "hidden"
   },
   "outputs": [],
   "source": [
    "# Suppress detailed logging output, Not to be shown\n",
    "\n",
    "import logging\n",
    "import os\n",
    "\n",
    "# logging.basicConfig(level=logging.INFO, format='%(message)s')\n",
    "os.environ[\"DASK_DISTRIBUTED__LOGGING__DISTRIBUTED\"] = \"CRITICAL\"\n",
    "os.environ['TF_CPP_MIN_LOG_LEVEL'] = '3'\n",
    "logging.getLogger(\"distributed\").setLevel(level=logging.CRITICAL)"
   ]
  },
  {
   "cell_type": "markdown",
   "id": "cdb8a79e-a1df-4cb8-ac60-7a45def2326d",
   "metadata": {},
   "source": [
    "# Grid iterator on Rosenbrock function\n",
    "\n",
    "\n",
    "In this example, we will use the grid iterator on the [Rosenbrock](https://academic.oup.com/comjnl/article/3/3/175/345501) function.\n",
    "The Rosenbrock function is a well-known test function from optimization. It serves as the \"computational model\" for this example.\n",
    "The grid iterator evaluates a model based on a grid of the input space.\n",
    "\n",
    "You can use QUEENS by writing a small Python script that you use to run QUEENS.\n",
    "\n",
    "In this tutorial, we will follow the aforementioned approach and work with the script-based workflow.\n",
    "This allows you to run and interact with QUEENS directly in Jupyter notebooks."
   ]
  },
  {
   "cell_type": "code",
   "execution_count": 2,
   "id": "dc7d3e18-fe23-4114-ae51-e504e8bfff07",
   "metadata": {
    "tags": [
     "nbsphinx-hide-output"
    ]
   },
   "outputs": [
    {
     "name": "stderr",
     "output_type": "stream",
     "text": [
      "2025-08-06 14:29:51.079593: E external/local_xla/xla/stream_executor/cuda/cuda_fft.cc:477] Unable to register cuFFT factory: Attempting to register factory for plugin cuFFT when one has already been registered\n",
      "WARNING: All log messages before absl::InitializeLog() is called are written to STDERR\n",
      "E0000 00:00:1754483391.096641   28855 cuda_dnn.cc:8310] Unable to register cuDNN factory: Attempting to register factory for plugin cuDNN when one has already been registered\n",
      "E0000 00:00:1754483391.101930   28855 cuda_blas.cc:1418] Unable to register cuBLAS factory: Attempting to register factory for plugin cuBLAS when one has already been registered\n",
      "2025-08-06 14:29:51.118933: I tensorflow/core/platform/cpu_feature_guard.cc:210] This TensorFlow binary is optimized to use available CPU instructions in performance-critical operations.\n",
      "To enable the following instructions: AVX2 FMA, in other operations, rebuild TensorFlow with the appropriate compiler flags.\n",
      "I0000 00:00:1754483393.440595   28855 gpu_device.cc:2022] Created device /device:GPU:0 with 2792 MB memory:  -> device: 0, name: Quadro T1000, pci bus id: 0000:01:00.0, compute capability: 7.5\n",
      "I0000 00:00:1754483393.441485   28855 gpu_device.cc:2022] Created device /device:GPU:0 with 2792 MB memory:  -> device: 0, name: Quadro T1000, pci bus id: 0000:01:00.0, compute capability: 7.5\n",
      "I0000 00:00:1754483393.443813   28855 gpu_device.cc:2022] Created device /device:GPU:0 with 2792 MB memory:  -> device: 0, name: Quadro T1000, pci bus id: 0000:01:00.0, compute capability: 7.5\n",
      "I0000 00:00:1754483393.444374   28855 gpu_device.cc:2022] Created device /device:GPU:0 with 2792 MB memory:  -> device: 0, name: Quadro T1000, pci bus id: 0000:01:00.0, compute capability: 7.5\n",
      "I0000 00:00:1754483393.445577   28855 gpu_device.cc:2022] Created device /device:GPU:0 with 2792 MB memory:  -> device: 0, name: Quadro T1000, pci bus id: 0000:01:00.0, compute capability: 7.5\n",
      "I0000 00:00:1754483393.446117   28855 gpu_device.cc:2022] Created device /device:GPU:0 with 2792 MB memory:  -> device: 0, name: Quadro T1000, pci bus id: 0000:01:00.0, compute capability: 7.5\n",
      "I0000 00:00:1754483393.469823   28855 gpu_device.cc:2022] Created device /device:GPU:0 with 2792 MB memory:  -> device: 0, name: Quadro T1000, pci bus id: 0000:01:00.0, compute capability: 7.5\n",
      "I0000 00:00:1754483393.470444   28855 gpu_device.cc:2022] Created device /device:GPU:0 with 2792 MB memory:  -> device: 0, name: Quadro T1000, pci bus id: 0000:01:00.0, compute capability: 7.5\n",
      "I0000 00:00:1754483393.523937   28855 gpu_device.cc:2022] Created device /device:GPU:0 with 2792 MB memory:  -> device: 0, name: Quadro T1000, pci bus id: 0000:01:00.0, compute capability: 7.5\n",
      "I0000 00:00:1754483393.524559   28855 gpu_device.cc:2022] Created device /device:GPU:0 with 2792 MB memory:  -> device: 0, name: Quadro T1000, pci bus id: 0000:01:00.0, compute capability: 7.5\n"
     ]
    }
   ],
   "source": [
    "from queens.distributions.uniform import Uniform\n",
    "from queens.drivers import Function\n",
    "from queens.example_simulator_functions.rosenbrock60 import rosenbrock60\n",
    "from queens.global_settings import GlobalSettings\n",
    "from queens.iterators.grid import Grid\n",
    "from queens.main import run_iterator\n",
    "from queens.models.simulation import Simulation\n",
    "from queens.parameters.parameters import Parameters\n",
    "from queens.schedulers import Local\n",
    "from queens.utils.io import load_result"
   ]
  },
  {
   "cell_type": "markdown",
   "id": "82d86f9a",
   "metadata": {},
   "source": [
    "The following parameters define the experiment name (which output files would be named after) and output directory (where output files will be placed):"
   ]
  },
  {
   "cell_type": "code",
   "execution_count": 3,
   "id": "8386bb46",
   "metadata": {},
   "outputs": [],
   "source": [
    "\n",
    "# Global settings\n",
    "experiment_name = \"grid_iterator_rosenbrock\"\n",
    "output_dir = \"./\""
   ]
  },
  {
   "cell_type": "markdown",
   "id": "61bc1234",
   "metadata": {},
   "source": [
    "Here we define two parameters for our experiment: $x_1$ and $x_2$, both as a uniform distribution, and then grouped into a QUEENS `Parameter` container:"
   ]
  },
  {
   "cell_type": "code",
   "execution_count": 4,
   "id": "45ea75ac",
   "metadata": {},
   "outputs": [],
   "source": [
    "#### Model setup ####\n",
    "# Model parameters\n",
    "x1 = Uniform(lower_bound=-2.0, upper_bound=2.0)\n",
    "x2 = Uniform(lower_bound=-2.0, upper_bound=2.0)\n",
    "parameters = Parameters(x1=x1, x2=x2)"
   ]
  },
  {
   "cell_type": "markdown",
   "id": "2ac83cd4",
   "metadata": {},
   "source": [
    "In order to actually construct a model we require multiple things:\n",
    "- A `scheduler`. It manages the execution of your model on your local machine.\n",
    "- A `driver`. This object coordinates the evaluation of the forward model itself.\n",
    "- And finally, a QUEENS `model` itself:"
   ]
  },
  {
   "cell_type": "code",
   "execution_count": 5,
   "id": "5f5c0d23",
   "metadata": {
    "tags": [
     "nbsphinx-hide-output"
    ]
   },
   "outputs": [],
   "source": [
    "\n",
    "scheduler = Local(experiment_name)\n",
    "driver = Function(parameters=parameters, function=rosenbrock60)\n",
    "model = Simulation(scheduler, driver)"
   ]
  },
  {
   "cell_type": "markdown",
   "id": "b7a8d511",
   "metadata": {},
   "source": [
    "With the model set up, we now design the analysis parameters. In this case we do a linear grid design."
   ]
  },
  {
   "cell_type": "code",
   "execution_count": 6,
   "id": "af168428",
   "metadata": {},
   "outputs": [],
   "source": [
    "grid_design = {\n",
    "        \"x1\": {\"num_grid_points\": 5, \"axis_type\": \"lin\", \"data_type\": \"FLOAT\"},\n",
    "        \"x2\": {\"num_grid_points\": 5, \"axis_type\": \"lin\", \"data_type\": \"FLOAT\"},\n",
    "    }"
   ]
  },
  {
   "cell_type": "markdown",
   "id": "a193f907",
   "metadata": {
    "tags": [
     "nbsphinx-hide-output"
    ]
   },
   "source": [
    "We finally set up our `method` and run the iterator, then print our the results of the run:"
   ]
  },
  {
   "cell_type": "code",
   "execution_count": 7,
   "id": "c429dd36",
   "metadata": {},
   "outputs": [
    {
     "name": "stdout",
     "output_type": "stream",
     "text": [
      "                                                                                  \n",
      "                                        *                                         \n",
      "                                      * | *                                       \n",
      "                                     * \\|/ *                                      \n",
      "                                * * * \\|O|/ * * *                                 \n",
      "                                 \\o\\o\\o|O|o/o/o/                                  \n",
      "                                 (<><><>O<><><>)                                  \n",
      "                                  '==========='                                   \n",
      "                                                                                  \n",
      "          :'#######::'##::::'##:'########:'########:'##::: ##::'######::         \n",
      "          '##.... ##: ##:::: ##: ##.....:: ##.....:: ###:: ##:'##... ##:         \n",
      "           ##:::: ##: ##:::: ##: ##::::::: ##::::::: ####: ##: ##:::..::         \n",
      "           ##:::: ##: ##:::: ##: ######::: ######::: ## ## ##:. ######::         \n",
      "           ##:'## ##: ##:::: ##: ##...:::: ##...:::: ##. ####::..... ##:         \n",
      "           ##:.. ##:: ##:::: ##: ##::::::: ##::::::: ##:. ###:'##::: ##:         \n",
      "          : ##### ##:. #######:: ########: ########: ##::. ##:. ######::         \n",
      "          :.....:..:::.......:::........::........::..::::..:::......:::         \n",
      "                                                                                 \n",
      "                                                                                 \n",
      "           A general purpose framework for Uncertainty Quantification,           \n",
      "            Physics-Informed Machine Learning, Bayesian Optimization,            \n",
      "                    Inverse Problems and Simulation Analytics                    \n",
      "                                                                                 \n",
      "\n",
      "+-----------------------------------------------------------------------------------------------------------------------------------------------------------------------+\n",
      "|                                                                                 Grid                                                                                  |\n",
      "|- - - - - - - - - - - - - - - - - - - - - - - - - - - - - - - - - - - - - - - - - - - - - - - - - - - - - - - - - - - - - - - - - - - - - - - - - - - - - - - - - - - -|\n",
      "| self               : <queens.iterators.grid.Grid object at 0x729c2fb34c90>                                                                                            |\n",
      "| model              : <queens.models.simulation.Simulation object at 0x729c28b0f750>                                                                                   |\n",
      "| parameters         : <queens.parameters.parameters.Parameters object at 0x729c986fd310>                                                                               |\n",
      "| global_settings    : <queens.global_settings.GlobalSettings object at 0x729c23eeefd0>                                                                                 |\n",
      "| result_description : {'write_results': True, 'plot_results': False}                                                                                                   |\n",
      "| grid_design        : {'x1': {'num_grid_points': 5, 'axis_type': 'lin', 'data_type': 'FLOAT'}, 'x2': {'num_grid_points': 5, 'axis_type': 'lin', 'data_type': 'FLOAT'}} |\n",
      "+-----------------------------------------------------------------------------------------------------------------------------------------------------------------------+\n",
      "\n",
      "\n",
      "+-------------------------------------------------------------------------------+\n",
      "|                                git information                                |\n",
      "|- - - - - - - - - - - - - - - - - - - - - - - - - - - - - - - - - - - - - - - -|\n",
      "| commit hash        : bdf46d46e1d966c4a82c8106139e30ad57f1bd3b                 |\n",
      "| branch             : tutorials                                                |\n",
      "| clean working tree : False                                                    |\n",
      "+-------------------------------------------------------------------------------+\n",
      "\n",
      "Grid for experiment: grid_iterator_rosenbrock\n",
      "\n",
      "Starting Analysis...\n",
      "\n"
     ]
    },
    {
     "name": "stderr",
     "output_type": "stream",
     "text": [
      " 76%|███████▌  | 19/25 [00:00<00:00, 57.11it/s]"
     ]
    },
    {
     "name": "stdout",
     "output_type": "stream",
     "text": [
      "\n",
      "+-------------------------------------------------------------------------------+\n",
      "|                         Batch summary for jobs 0 - 24                         |\n",
      "|- - - - - - - - - - - - - - - - - - - - - - - - - - - - - - - - - - - - - - - -|\n",
      "| number of jobs                : 25                                            |\n",
      "| number of parallel jobs       : 1                                             |\n",
      "| number of procs               : 1                                             |\n",
      "| total elapsed time            : 4.359e-01s                                    |\n",
      "| average time per parallel job : 1.743e-02s                                    |\n",
      "+-------------------------------------------------------------------------------+\n",
      "\n"
     ]
    },
    {
     "name": "stderr",
     "output_type": "stream",
     "text": [
      "100%|██████████| 25/25 [00:00<00:00, 57.28it/s]"
     ]
    },
    {
     "name": "stdout",
     "output_type": "stream",
     "text": [
      "[[3.609e+03]\n",
      " [9.040e+02]\n",
      " [4.010e+02]\n",
      " [9.000e+02]\n",
      " [3.601e+03]\n",
      " [2.509e+03]\n",
      " [4.040e+02]\n",
      " [1.010e+02]\n",
      " [4.000e+02]\n",
      " [2.501e+03]\n",
      " [1.609e+03]\n",
      " [1.040e+02]\n",
      " [1.000e+00]\n",
      " [1.000e+02]\n",
      " [1.601e+03]\n",
      " [9.090e+02]\n",
      " [4.000e+00]\n",
      " [1.010e+02]\n",
      " [0.000e+00]\n",
      " [9.010e+02]\n",
      " [4.090e+02]\n",
      " [1.040e+02]\n",
      " [4.010e+02]\n",
      " [1.000e+02]\n",
      " [4.010e+02]]\n",
      "0.0\n",
      "\n",
      "Time for CALCULATION: 0.46068334579467773 s\n",
      "\n"
     ]
    },
    {
     "name": "stderr",
     "output_type": "stream",
     "text": [
      "\n"
     ]
    }
   ],
   "source": [
    "\n",
    "result_description ={\n",
    "        \"write_results\": True,\n",
    "        \"plot_results\": False,\n",
    "    }\n",
    "with GlobalSettings(\n",
    "    experiment_name=experiment_name, output_dir=output_dir, debug=False\n",
    ") as gs:   \n",
    "    # The method of the analysis is defined by the iterator type:\n",
    "    method = Grid(\n",
    "        grid_design=grid_design,\n",
    "        result_description=result_description,\n",
    "        global_settings=gs,\n",
    "        model=model,\n",
    "        parameters=parameters,\n",
    "    )\n",
    "\n",
    "    #### Analysis ####\n",
    "    run_iterator(method, gs)\n",
    "\n",
    "    #### Load Results ####\n",
    "    result_file = gs.output_dir / f\"{gs.experiment_name}.pickle\"\n",
    "    results = load_result(result_file)"
   ]
  },
  {
   "cell_type": "markdown",
   "id": "1fd2d1d2-4de3-4243-b41e-dd7856479e31",
   "metadata": {},
   "source": [
    "## QUEENS output\n",
    "\n",
    "QUEENS output is written to a file called `<experiment_name>.pickle` in the directory defined by the argument `output_dir` of the global settings object.  \n",
    "There also the `experiment_name` has to be set. In the output folder, you also get a log file that contains the console output. It is called `<experiment_name>.log`.\n",
    "\n",
    "For this example, the experiment name is set to `grid_iterator_rosenbrock`.  \n",
    "Therefore, the output can be found in the following directory: `<output_dir>/grid_iterator_rosenbrock.pickle`\n",
    "\n",
    "In the case of the grid iterator, you get a dictionary including the raw input-output data and some statistics."
   ]
  },
  {
   "cell_type": "code",
   "execution_count": 8,
   "id": "c2f58237-c010-4589-93ba-6397e412c7e7",
   "metadata": {},
   "outputs": [
    {
     "data": {
      "text/plain": [
       "{'mean': array([883.]),\n",
       " 'var': array([1187594.58333333]),\n",
       " 'raw_output_data': {'result': array([[3.609e+03],\n",
       "         [9.040e+02],\n",
       "         [4.010e+02],\n",
       "         [9.000e+02],\n",
       "         [3.601e+03],\n",
       "         [2.509e+03],\n",
       "         [4.040e+02],\n",
       "         [1.010e+02],\n",
       "         [4.000e+02],\n",
       "         [2.501e+03],\n",
       "         [1.609e+03],\n",
       "         [1.040e+02],\n",
       "         [1.000e+00],\n",
       "         [1.000e+02],\n",
       "         [1.601e+03],\n",
       "         [9.090e+02],\n",
       "         [4.000e+00],\n",
       "         [1.010e+02],\n",
       "         [0.000e+00],\n",
       "         [9.010e+02],\n",
       "         [4.090e+02],\n",
       "         [1.040e+02],\n",
       "         [4.010e+02],\n",
       "         [1.000e+02],\n",
       "         [4.010e+02]]),\n",
       "  'gradient': array([None, None, None, None, None, None, None, None, None, None, None,\n",
       "         None, None, None, None, None, None, None, None, None, None, None,\n",
       "         None, None, None], dtype=object)},\n",
       " 'input_data': array([[-2., -2.],\n",
       "        [-1., -2.],\n",
       "        [ 0., -2.],\n",
       "        [ 1., -2.],\n",
       "        [ 2., -2.],\n",
       "        [-2., -1.],\n",
       "        [-1., -1.],\n",
       "        [ 0., -1.],\n",
       "        [ 1., -1.],\n",
       "        [ 2., -1.],\n",
       "        [-2.,  0.],\n",
       "        [-1.,  0.],\n",
       "        [ 0.,  0.],\n",
       "        [ 1.,  0.],\n",
       "        [ 2.,  0.],\n",
       "        [-2.,  1.],\n",
       "        [-1.,  1.],\n",
       "        [ 0.,  1.],\n",
       "        [ 1.,  1.],\n",
       "        [ 2.,  1.],\n",
       "        [-2.,  2.],\n",
       "        [-1.,  2.],\n",
       "        [ 0.,  2.],\n",
       "        [ 1.,  2.],\n",
       "        [ 2.,  2.]])}"
      ]
     },
     "execution_count": 8,
     "metadata": {},
     "output_type": "execute_result"
    }
   ],
   "source": [
    "results"
   ]
  },
  {
   "cell_type": "markdown",
   "id": "7ddc0db9-2b7a-4e20-ab1c-bd2f3d3910f2",
   "metadata": {},
   "source": [
    "### Postprocessing\n",
    "\n",
    "You can now interact with these results as with any other Python object.\n",
    "For example, you can plot the results:"
   ]
  },
  {
   "cell_type": "code",
   "execution_count": 9,
   "id": "e6ca7085-d65c-40e0-9ab4-c93e0782344e",
   "metadata": {},
   "outputs": [
    {
     "data": {
      "application/vnd.plotly.v1+json": {
       "config": {
        "plotlyServerURL": "https://plot.ly"
       },
       "data": [
        {
         "type": "surface",
         "x": [
          -2,
          -1,
          0,
          1,
          2
         ],
         "y": [
          -2,
          -1,
          0,
          1,
          2
         ],
         "z": [
          [
           3609,
           904,
           401,
           900,
           3601
          ],
          [
           2509,
           404,
           101,
           400,
           2501
          ],
          [
           1609,
           104,
           1,
           100,
           1601
          ],
          [
           909,
           4,
           101,
           0,
           901
          ],
          [
           409,
           104,
           401,
           100,
           401
          ]
         ]
        }
       ],
       "layout": {
        "template": {
         "data": {
          "bar": [
           {
            "error_x": {
             "color": "#2a3f5f"
            },
            "error_y": {
             "color": "#2a3f5f"
            },
            "marker": {
             "line": {
              "color": "#E5ECF6",
              "width": 0.5
             },
             "pattern": {
              "fillmode": "overlay",
              "size": 10,
              "solidity": 0.2
             }
            },
            "type": "bar"
           }
          ],
          "barpolar": [
           {
            "marker": {
             "line": {
              "color": "#E5ECF6",
              "width": 0.5
             },
             "pattern": {
              "fillmode": "overlay",
              "size": 10,
              "solidity": 0.2
             }
            },
            "type": "barpolar"
           }
          ],
          "carpet": [
           {
            "aaxis": {
             "endlinecolor": "#2a3f5f",
             "gridcolor": "white",
             "linecolor": "white",
             "minorgridcolor": "white",
             "startlinecolor": "#2a3f5f"
            },
            "baxis": {
             "endlinecolor": "#2a3f5f",
             "gridcolor": "white",
             "linecolor": "white",
             "minorgridcolor": "white",
             "startlinecolor": "#2a3f5f"
            },
            "type": "carpet"
           }
          ],
          "choropleth": [
           {
            "colorbar": {
             "outlinewidth": 0,
             "ticks": ""
            },
            "type": "choropleth"
           }
          ],
          "contour": [
           {
            "colorbar": {
             "outlinewidth": 0,
             "ticks": ""
            },
            "colorscale": [
             [
              0,
              "#0d0887"
             ],
             [
              0.1111111111111111,
              "#46039f"
             ],
             [
              0.2222222222222222,
              "#7201a8"
             ],
             [
              0.3333333333333333,
              "#9c179e"
             ],
             [
              0.4444444444444444,
              "#bd3786"
             ],
             [
              0.5555555555555556,
              "#d8576b"
             ],
             [
              0.6666666666666666,
              "#ed7953"
             ],
             [
              0.7777777777777778,
              "#fb9f3a"
             ],
             [
              0.8888888888888888,
              "#fdca26"
             ],
             [
              1,
              "#f0f921"
             ]
            ],
            "type": "contour"
           }
          ],
          "contourcarpet": [
           {
            "colorbar": {
             "outlinewidth": 0,
             "ticks": ""
            },
            "type": "contourcarpet"
           }
          ],
          "heatmap": [
           {
            "colorbar": {
             "outlinewidth": 0,
             "ticks": ""
            },
            "colorscale": [
             [
              0,
              "#0d0887"
             ],
             [
              0.1111111111111111,
              "#46039f"
             ],
             [
              0.2222222222222222,
              "#7201a8"
             ],
             [
              0.3333333333333333,
              "#9c179e"
             ],
             [
              0.4444444444444444,
              "#bd3786"
             ],
             [
              0.5555555555555556,
              "#d8576b"
             ],
             [
              0.6666666666666666,
              "#ed7953"
             ],
             [
              0.7777777777777778,
              "#fb9f3a"
             ],
             [
              0.8888888888888888,
              "#fdca26"
             ],
             [
              1,
              "#f0f921"
             ]
            ],
            "type": "heatmap"
           }
          ],
          "heatmapgl": [
           {
            "colorbar": {
             "outlinewidth": 0,
             "ticks": ""
            },
            "colorscale": [
             [
              0,
              "#0d0887"
             ],
             [
              0.1111111111111111,
              "#46039f"
             ],
             [
              0.2222222222222222,
              "#7201a8"
             ],
             [
              0.3333333333333333,
              "#9c179e"
             ],
             [
              0.4444444444444444,
              "#bd3786"
             ],
             [
              0.5555555555555556,
              "#d8576b"
             ],
             [
              0.6666666666666666,
              "#ed7953"
             ],
             [
              0.7777777777777778,
              "#fb9f3a"
             ],
             [
              0.8888888888888888,
              "#fdca26"
             ],
             [
              1,
              "#f0f921"
             ]
            ],
            "type": "heatmapgl"
           }
          ],
          "histogram": [
           {
            "marker": {
             "pattern": {
              "fillmode": "overlay",
              "size": 10,
              "solidity": 0.2
             }
            },
            "type": "histogram"
           }
          ],
          "histogram2d": [
           {
            "colorbar": {
             "outlinewidth": 0,
             "ticks": ""
            },
            "colorscale": [
             [
              0,
              "#0d0887"
             ],
             [
              0.1111111111111111,
              "#46039f"
             ],
             [
              0.2222222222222222,
              "#7201a8"
             ],
             [
              0.3333333333333333,
              "#9c179e"
             ],
             [
              0.4444444444444444,
              "#bd3786"
             ],
             [
              0.5555555555555556,
              "#d8576b"
             ],
             [
              0.6666666666666666,
              "#ed7953"
             ],
             [
              0.7777777777777778,
              "#fb9f3a"
             ],
             [
              0.8888888888888888,
              "#fdca26"
             ],
             [
              1,
              "#f0f921"
             ]
            ],
            "type": "histogram2d"
           }
          ],
          "histogram2dcontour": [
           {
            "colorbar": {
             "outlinewidth": 0,
             "ticks": ""
            },
            "colorscale": [
             [
              0,
              "#0d0887"
             ],
             [
              0.1111111111111111,
              "#46039f"
             ],
             [
              0.2222222222222222,
              "#7201a8"
             ],
             [
              0.3333333333333333,
              "#9c179e"
             ],
             [
              0.4444444444444444,
              "#bd3786"
             ],
             [
              0.5555555555555556,
              "#d8576b"
             ],
             [
              0.6666666666666666,
              "#ed7953"
             ],
             [
              0.7777777777777778,
              "#fb9f3a"
             ],
             [
              0.8888888888888888,
              "#fdca26"
             ],
             [
              1,
              "#f0f921"
             ]
            ],
            "type": "histogram2dcontour"
           }
          ],
          "mesh3d": [
           {
            "colorbar": {
             "outlinewidth": 0,
             "ticks": ""
            },
            "type": "mesh3d"
           }
          ],
          "parcoords": [
           {
            "line": {
             "colorbar": {
              "outlinewidth": 0,
              "ticks": ""
             }
            },
            "type": "parcoords"
           }
          ],
          "pie": [
           {
            "automargin": true,
            "type": "pie"
           }
          ],
          "scatter": [
           {
            "fillpattern": {
             "fillmode": "overlay",
             "size": 10,
             "solidity": 0.2
            },
            "type": "scatter"
           }
          ],
          "scatter3d": [
           {
            "line": {
             "colorbar": {
              "outlinewidth": 0,
              "ticks": ""
             }
            },
            "marker": {
             "colorbar": {
              "outlinewidth": 0,
              "ticks": ""
             }
            },
            "type": "scatter3d"
           }
          ],
          "scattercarpet": [
           {
            "marker": {
             "colorbar": {
              "outlinewidth": 0,
              "ticks": ""
             }
            },
            "type": "scattercarpet"
           }
          ],
          "scattergeo": [
           {
            "marker": {
             "colorbar": {
              "outlinewidth": 0,
              "ticks": ""
             }
            },
            "type": "scattergeo"
           }
          ],
          "scattergl": [
           {
            "marker": {
             "colorbar": {
              "outlinewidth": 0,
              "ticks": ""
             }
            },
            "type": "scattergl"
           }
          ],
          "scattermapbox": [
           {
            "marker": {
             "colorbar": {
              "outlinewidth": 0,
              "ticks": ""
             }
            },
            "type": "scattermapbox"
           }
          ],
          "scatterpolar": [
           {
            "marker": {
             "colorbar": {
              "outlinewidth": 0,
              "ticks": ""
             }
            },
            "type": "scatterpolar"
           }
          ],
          "scatterpolargl": [
           {
            "marker": {
             "colorbar": {
              "outlinewidth": 0,
              "ticks": ""
             }
            },
            "type": "scatterpolargl"
           }
          ],
          "scatterternary": [
           {
            "marker": {
             "colorbar": {
              "outlinewidth": 0,
              "ticks": ""
             }
            },
            "type": "scatterternary"
           }
          ],
          "surface": [
           {
            "colorbar": {
             "outlinewidth": 0,
             "ticks": ""
            },
            "colorscale": [
             [
              0,
              "#0d0887"
             ],
             [
              0.1111111111111111,
              "#46039f"
             ],
             [
              0.2222222222222222,
              "#7201a8"
             ],
             [
              0.3333333333333333,
              "#9c179e"
             ],
             [
              0.4444444444444444,
              "#bd3786"
             ],
             [
              0.5555555555555556,
              "#d8576b"
             ],
             [
              0.6666666666666666,
              "#ed7953"
             ],
             [
              0.7777777777777778,
              "#fb9f3a"
             ],
             [
              0.8888888888888888,
              "#fdca26"
             ],
             [
              1,
              "#f0f921"
             ]
            ],
            "type": "surface"
           }
          ],
          "table": [
           {
            "cells": {
             "fill": {
              "color": "#EBF0F8"
             },
             "line": {
              "color": "white"
             }
            },
            "header": {
             "fill": {
              "color": "#C8D4E3"
             },
             "line": {
              "color": "white"
             }
            },
            "type": "table"
           }
          ]
         },
         "layout": {
          "annotationdefaults": {
           "arrowcolor": "#2a3f5f",
           "arrowhead": 0,
           "arrowwidth": 1
          },
          "autotypenumbers": "strict",
          "coloraxis": {
           "colorbar": {
            "outlinewidth": 0,
            "ticks": ""
           }
          },
          "colorscale": {
           "diverging": [
            [
             0,
             "#8e0152"
            ],
            [
             0.1,
             "#c51b7d"
            ],
            [
             0.2,
             "#de77ae"
            ],
            [
             0.3,
             "#f1b6da"
            ],
            [
             0.4,
             "#fde0ef"
            ],
            [
             0.5,
             "#f7f7f7"
            ],
            [
             0.6,
             "#e6f5d0"
            ],
            [
             0.7,
             "#b8e186"
            ],
            [
             0.8,
             "#7fbc41"
            ],
            [
             0.9,
             "#4d9221"
            ],
            [
             1,
             "#276419"
            ]
           ],
           "sequential": [
            [
             0,
             "#0d0887"
            ],
            [
             0.1111111111111111,
             "#46039f"
            ],
            [
             0.2222222222222222,
             "#7201a8"
            ],
            [
             0.3333333333333333,
             "#9c179e"
            ],
            [
             0.4444444444444444,
             "#bd3786"
            ],
            [
             0.5555555555555556,
             "#d8576b"
            ],
            [
             0.6666666666666666,
             "#ed7953"
            ],
            [
             0.7777777777777778,
             "#fb9f3a"
            ],
            [
             0.8888888888888888,
             "#fdca26"
            ],
            [
             1,
             "#f0f921"
            ]
           ],
           "sequentialminus": [
            [
             0,
             "#0d0887"
            ],
            [
             0.1111111111111111,
             "#46039f"
            ],
            [
             0.2222222222222222,
             "#7201a8"
            ],
            [
             0.3333333333333333,
             "#9c179e"
            ],
            [
             0.4444444444444444,
             "#bd3786"
            ],
            [
             0.5555555555555556,
             "#d8576b"
            ],
            [
             0.6666666666666666,
             "#ed7953"
            ],
            [
             0.7777777777777778,
             "#fb9f3a"
            ],
            [
             0.8888888888888888,
             "#fdca26"
            ],
            [
             1,
             "#f0f921"
            ]
           ]
          },
          "colorway": [
           "#636efa",
           "#EF553B",
           "#00cc96",
           "#ab63fa",
           "#FFA15A",
           "#19d3f3",
           "#FF6692",
           "#B6E880",
           "#FF97FF",
           "#FECB52"
          ],
          "font": {
           "color": "#2a3f5f"
          },
          "geo": {
           "bgcolor": "white",
           "lakecolor": "white",
           "landcolor": "#E5ECF6",
           "showlakes": true,
           "showland": true,
           "subunitcolor": "white"
          },
          "hoverlabel": {
           "align": "left"
          },
          "hovermode": "closest",
          "mapbox": {
           "style": "light"
          },
          "paper_bgcolor": "white",
          "plot_bgcolor": "#E5ECF6",
          "polar": {
           "angularaxis": {
            "gridcolor": "white",
            "linecolor": "white",
            "ticks": ""
           },
           "bgcolor": "#E5ECF6",
           "radialaxis": {
            "gridcolor": "white",
            "linecolor": "white",
            "ticks": ""
           }
          },
          "scene": {
           "xaxis": {
            "backgroundcolor": "#E5ECF6",
            "gridcolor": "white",
            "gridwidth": 2,
            "linecolor": "white",
            "showbackground": true,
            "ticks": "",
            "zerolinecolor": "white"
           },
           "yaxis": {
            "backgroundcolor": "#E5ECF6",
            "gridcolor": "white",
            "gridwidth": 2,
            "linecolor": "white",
            "showbackground": true,
            "ticks": "",
            "zerolinecolor": "white"
           },
           "zaxis": {
            "backgroundcolor": "#E5ECF6",
            "gridcolor": "white",
            "gridwidth": 2,
            "linecolor": "white",
            "showbackground": true,
            "ticks": "",
            "zerolinecolor": "white"
           }
          },
          "shapedefaults": {
           "line": {
            "color": "#2a3f5f"
           }
          },
          "ternary": {
           "aaxis": {
            "gridcolor": "white",
            "linecolor": "white",
            "ticks": ""
           },
           "baxis": {
            "gridcolor": "white",
            "linecolor": "white",
            "ticks": ""
           },
           "bgcolor": "#E5ECF6",
           "caxis": {
            "gridcolor": "white",
            "linecolor": "white",
            "ticks": ""
           }
          },
          "title": {
           "x": 0.05
          },
          "xaxis": {
           "automargin": true,
           "gridcolor": "white",
           "linecolor": "white",
           "ticks": "",
           "title": {
            "standoff": 15
           },
           "zerolinecolor": "white",
           "zerolinewidth": 2
          },
          "yaxis": {
           "automargin": true,
           "gridcolor": "white",
           "linecolor": "white",
           "ticks": "",
           "title": {
            "standoff": 15
           },
           "zerolinecolor": "white",
           "zerolinewidth": 2
          }
         }
        }
       }
      }
     },
     "metadata": {},
     "output_type": "display_data"
    }
   ],
   "source": [
    "import plotly.graph_objects as go\n",
    "import numpy as np\n",
    "\n",
    "input_data = results[\"input_data\"]\n",
    "output_data = results[\"raw_output_data\"][\"result\"]\n",
    "\n",
    "x = np.unique(input_data[:,0])\n",
    "y = np.unique(input_data[:,1])\n",
    "\n",
    "shape_x = x.shape[0]\n",
    "shape_y = y.shape[0]\n",
    "\n",
    "z = output_data.reshape((shape_x, shape_y))\n",
    "fig = go.Figure(data=[go.Surface(x=x,y=y, z=z)])\n",
    "\n",
    "fig.show()"
   ]
  },
  {
   "cell_type": "markdown",
   "id": "e12ffeb4-91c0-4213-a72e-bf8914ce7a57",
   "metadata": {},
   "source": [
    "## Time for some individualization\n",
    "1. The resolution of the grid is relatively coarse.\n",
    "Increase the resolution by increasing the `num_grid_points` and repeat the simulation.\n",
    "\n",
    "1. You can adjust the bounds of the grid per variable via the keywords: `lower_bound` and `upper_bound`.  \n",
    "Go ahead and see what happens if you change the bound.\n",
    "\n",
    "1. Since we are evaluating a Python function we are using the `Function` Driver. \n",
    "Moreover, we are executing the study on our local machine, so we are using the\n",
    "`Local` Scheduler. You can also run the model evaluations in parallel by \n",
    "adjusting its `num_jobs` and `num_procs` parameters."
   ]
  }
 ],
 "metadata": {
  "kernelspec": {
   "display_name": "queens",
   "language": "python",
   "name": "python3"
  },
  "language_info": {
   "codemirror_mode": {
    "name": "ipython",
    "version": 3
   },
   "file_extension": ".py",
   "mimetype": "text/x-python",
   "name": "python",
   "nbconvert_exporter": "python",
   "pygments_lexer": "ipython3",
   "version": "3.11.0"
  }
 },
 "nbformat": 4,
 "nbformat_minor": 5
}
