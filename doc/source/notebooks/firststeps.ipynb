{
 "cells": [
  {
   "cell_type": "markdown",
   "metadata": {},
   "source": [
    "# **First steps in QUEENS** \n",
    "***\n",
    "\n",
    "---\n",
    "First steps in QUEENS "
   ]
  },
  {
   "cell_type": "code",
   "execution_count": 1,
   "metadata": {},
   "outputs": [
    {
     "name": "stderr",
     "output_type": "stream",
     "text": [
      " /home/biehler/anaconda3/envs/queens/lib/python3.6/site-packages/sklearn/cross_validation.py:41: DeprecationWarning:This module was deprecated in version 0.18 in favor of the model_selection module into which all the refactored classes and functions are moved. Also note that the interface of the new CV iterators are different from that of this module. This module will be removed in 0.20.\n",
      " /home/biehler/anaconda3/envs/queens/lib/python3.6/site-packages/sklearn/grid_search.py:42: DeprecationWarning:This module was deprecated in version 0.18 in favor of the model_selection module into which all the refactored classes and functions are moved. This module will be removed in 0.20.\n"
     ]
    }
   ],
   "source": [
    "import pqueens\n",
    "import argparse\n",
    "import os\n",
    "import time\n",
    "import sys\n",
    "import numpy as np\n",
    "try: import simplejson as json\n",
    "except ImportError: import json\n",
    "\n",
    "from  pqueens.resources.resource import parse_resources_from_configuration\n",
    "from  pqueens.resources.resource import print_resources_status\n",
    "\n",
    "from pqueens.database.mongodb import MongoDB\n",
    "\n",
    "from collections import OrderedDict\n",
    "from pqueens.emulators.gp_emulator import GPEmulator\n",
    "from pqueens.resources.resource import parse_resources_from_configuration\n",
    "from pqueens.resources.resource import print_resources_status\n",
    "from pqueens.designers.designer_factory import DesignerFactory\n",
    "from collections import OrderedDict\n",
    "\n",
    "\n",
    "\n",
    "# set input params \n",
    "# path to input file in json format \n",
    "input_file = '/home/biehler/adco/projects/05_queens/queens/example_input_files/baci_native_config.json'\n",
    "output_dir ='/home/biehler/adco/projects/05_queens/queens/example_input_files'\n",
    "try:\n",
    "    with open(input_file, 'r') as f:\n",
    "        options = json.load(f, object_pairs_hook=OrderedDict)\n",
    "except:\n",
    "    raise Exception(\"config.json did not load properly.\")\n",
    "    \n",
    "options[\"input_file\"] = input_file\n",
    "options[\"output_dir\"] = output_dir\n",
    "    \n",
    "    "
   ]
  },
  {
   "cell_type": "code",
   "execution_count": 2,
   "metadata": {},
   "outputs": [],
   "source": [
    "def create_new_job(db,suggestion,experiment_name,options,resource_name):\n",
    "\n",
    "    print(\"Created new job\")\n",
    "    jobs = load_jobs(db, experiment_name)\n",
    "\n",
    "    job_id = len(jobs) + 1\n",
    "\n",
    "    i = 0\n",
    "    params = {}\n",
    "    for key, variable_meta_data in options['variables'].items():\n",
    "        params[key] = variable_meta_data\n",
    "        params[key]['values']=suggestion[i]\n",
    "        i+=1\n",
    "\n",
    "    job = {\n",
    "        'id'           : job_id,\n",
    "        'params' :       params,\n",
    "        'experiment_dir'     : options['output_dir'],\n",
    "        'experiment_name'    : experiment_name,\n",
    "        'resource'     : resource_name,\n",
    "        'driver_type'  : options['driver']['driver_type'],\n",
    "        'driver_params': options['driver']['driver_params'],\n",
    "        'status'       : 'new',\n",
    "        'submit time'  : time.time(),\n",
    "        'start time'   : None,\n",
    "        'end time'     : None\n",
    "    }\n",
    "\n",
    "    save_job(job, db, experiment_name)\n",
    "\n",
    "    return job\n",
    "\n",
    "def load_jobs(db, experiment_name):\n",
    "    \"\"\"load the jobs from the database\n",
    "\n",
    "    Returns\n",
    "    -------\n",
    "    jobs : list\n",
    "        a list of jobs or an empty list\n",
    "    \"\"\"\n",
    "    jobs = db.load(experiment_name, 'jobs')\n",
    "\n",
    "    if jobs is None:\n",
    "        jobs = []\n",
    "    if isinstance(jobs, dict):\n",
    "        jobs = [jobs]\n",
    "\n",
    "    return jobs\n",
    "\n",
    "def save_job(job, db, experiment_name):\n",
    "    \"\"\"save a job to the database\"\"\"\n",
    "    db.save(job, experiment_name, 'jobs', {'id' : job['id']})\n",
    "\n",
    "def tired(db, experiment_name, resource):\n",
    "    \"\"\"\n",
    "    return True if resources is not accepting jobs\n",
    "    \"\"\"\n",
    "    jobs = load_jobs(db, experiment_name)\n",
    "    if resource.accepting_jobs(jobs):\n",
    "        return False\n",
    "    return True\n",
    "\n",
    "def build_emulator(db, experiment_name, options):\n",
    "    jobs = load_jobs(db, experiment_name)\n",
    "    num_jobs = len(jobs)\n",
    "    num_param = len(options['variables'])\n",
    "    # init arrays\n",
    "    y = np.zeros((num_jobs,1))\n",
    "    x = np.zeros((num_jobs,num_param))\n",
    "    i = 0\n",
    "    for job in jobs:\n",
    "        y[i] = job['result']\n",
    "        j=0\n",
    "        print(\"job['params']{} \".format(job['params']))\n",
    "        for param in job['params']:\n",
    "            print(\"param{} \".format(param))\n",
    "            x[i,j]=job['params'][param]['values']\n",
    "            j+=1\n",
    "            #params[key]['values']=suggestion[i]\n",
    "\n",
    "        i+=1\n",
    "    my_emulator = GPEmulator(x,y,options['variables'])\n",
    "    mean_mean, var_mean = my_emulator.compute_mean()\n",
    "    print('Mean{} '.format(mean_mean))\n",
    "    print('Variance of Mean{} '.format(var_mean))\n",
    "\n",
    "    return my_emulator\n"
   ]
  },
  {
   "cell_type": "markdown",
   "metadata": {},
   "source": [
    "Make sure that MongoDB is actually running by typing\n",
    "`ps -ef | grep mongod | grep -v grep | wc -l | tr -d ' '`\n",
    "\n",
    "If not start it by\n",
    "\n",
    "`mongod --dbpath <path to data directory>`\n",
    "\n",
    "clear of necessary \n",
    "`mongo pqueens --eval \"db.dropDatabase()\"`"
   ]
  },
  {
   "cell_type": "code",
   "execution_count": 3,
   "metadata": {},
   "outputs": [
    {
     "name": "stderr",
     "output_type": "stream",
     "text": [
      "Using database at localhost:27017.\n"
     ]
    }
   ],
   "source": [
    "# create resource\n",
    "resources = parse_resources_from_configuration(options)\n",
    "\n",
    " # connect to the database\n",
    "db_address = options['database']['address']\n",
    "experiment_name = options['experiment-name']\n",
    "\n",
    "sys.stderr.write('Using database at %s.\\n' % db_address)\n",
    "db   = MongoDB(database_address=db_address)\n",
    "\n",
    "# create designer\n",
    "designer = DesignerFactory.create_designer(options['designer']['type'],\n",
    "                                           options['variables'],\n",
    "                                           options['designer']['seed'],\n",
    "                                           options['designer']['num_samples'])\n",
    "\n",
    "suggester = designer.sample_generator()\n",
    "\n"
   ]
  },
  {
   "cell_type": "markdown",
   "metadata": {},
   "source": [
    "Run Analysis"
   ]
  },
  {
   "cell_type": "code",
   "execution_count": 4,
   "metadata": {},
   "outputs": [
    {
     "name": "stdout",
     "output_type": "stream",
     "text": [
      "Created new job\n",
      "starting process\n",
      "output_file<_io.TextIOWrapper name='/home/biehler/adco/projects/05_queens/queens/example_input_files/output/00000001.out' mode='w' encoding='UTF-8'>\n",
      "suggested_job[statusnew \n",
      "Created new job\n",
      "starting process\n",
      "output_file<_io.TextIOWrapper name='/home/biehler/adco/projects/05_queens/queens/example_input_files/output/00000002.out' mode='w' encoding='UTF-8'>\n",
      "suggested_job[statusnew \n",
      "Created new job\n",
      "starting process\n",
      "output_file<_io.TextIOWrapper name='/home/biehler/adco/projects/05_queens/queens/example_input_files/output/00000003.out' mode='w' encoding='UTF-8'>\n",
      "suggested_job[statusnew \n",
      "Created new job\n",
      "starting process\n",
      "output_file<_io.TextIOWrapper name='/home/biehler/adco/projects/05_queens/queens/example_input_files/output/00000004.out' mode='w' encoding='UTF-8'>\n",
      "suggested_job[statusnew \n",
      "Created new job\n",
      "starting process\n",
      "output_file<_io.TextIOWrapper name='/home/biehler/adco/projects/05_queens/queens/example_input_files/output/00000005.out' mode='w' encoding='UTF-8'>\n",
      "suggested_job[statusnew \n"
     ]
    },
    {
     "name": "stderr",
     "output_type": "stream",
     "text": [
      "Submitted job as process: 9853\n",
      "Submitted job 1 with local scheduler (process id: 9853).\n",
      "\n",
      "Resources:      NAME          PENDING    COMPLETE\n",
      "                ----          -------    --------\n",
      "                my-machine    1          0         \n",
      "                *TOTAL*       1          0         \n",
      "\n",
      "\n",
      "Resources:      NAME          PENDING    COMPLETE\n",
      "                ----          -------    --------\n",
      "                my-machine    1          0         \n",
      "                *TOTAL*       1          0         \n",
      "\n",
      "Submitted job as process: 9854\n",
      "Submitted job 2 with local scheduler (process id: 9854).\n",
      "\n",
      "Resources:      NAME          PENDING    COMPLETE\n",
      "                ----          -------    --------\n",
      "                my-machine    2          0         \n",
      "                *TOTAL*       2          0         \n",
      "\n",
      "\n",
      "Resources:      NAME          PENDING    COMPLETE\n",
      "                ----          -------    --------\n",
      "                my-machine    2          0         \n",
      "                *TOTAL*       2          0         \n",
      "\n",
      "Submitted job as process: 9855\n",
      "Submitted job 3 with local scheduler (process id: 9855).\n",
      "\n",
      "Resources:      NAME          PENDING    COMPLETE\n",
      "                ----          -------    --------\n",
      "                my-machine    3          0         \n",
      "                *TOTAL*       3          0         \n",
      "\n",
      "\n",
      "Resources:      NAME          PENDING    COMPLETE\n",
      "                ----          -------    --------\n",
      "                my-machine    3          0         \n",
      "                *TOTAL*       3          0         \n",
      "\n",
      "Submitted job as process: 9856\n",
      "Submitted job 4 with local scheduler (process id: 9856).\n",
      "\n",
      "Resources:      NAME          PENDING    COMPLETE\n",
      "                ----          -------    --------\n",
      "                my-machine    4          0         \n",
      "                *TOTAL*       4          0         \n",
      "\n",
      "\n",
      "Resources:      NAME          PENDING    COMPLETE\n",
      "                ----          -------    --------\n",
      "                my-machine    4          0         \n",
      "                *TOTAL*       4          0         \n",
      "\n",
      "Submitted job as process: 9857\n",
      "Submitted job 5 with local scheduler (process id: 9857).\n",
      "\n",
      "Resources:      NAME          PENDING    COMPLETE\n",
      "                ----          -------    --------\n",
      "                my-machine    5          0         \n",
      "                *TOTAL*       5          0         \n",
      "\n",
      "\n",
      "Resources:      NAME          PENDING    COMPLETE\n",
      "                ----          -------    --------\n",
      "                my-machine    5          0         \n",
      "                *TOTAL*       5          0         \n",
      "\n"
     ]
    }
   ],
   "source": [
    "jobs = load_jobs(db, experiment_name)\n",
    "for suggestion in suggester:\n",
    "    processed_suggestion = False\n",
    "    while not processed_suggestion:\n",
    "        if resources['my-machine'].accepting_jobs(jobs):\n",
    "\n",
    "            new_job = create_new_job(db,suggestion,experiment_name,options,'my-machine')\n",
    "\n",
    "            # Submit the job to the appropriate resource\n",
    "            process_id = resources['my-machine'].attempt_dispatch(experiment_name,\n",
    "                                                                  new_job, db_address,\n",
    "                                                                  options['output_dir'])\n",
    "\n",
    "            # Set the status of the job appropriately (successfully submitted or not)\n",
    "            if process_id is None:\n",
    "                new_job['status'] = 'broken'\n",
    "                save_job(new_job, db, experiment_name)\n",
    "            else:\n",
    "                print(\"suggested_job[status{} \".format(new_job['status']))\n",
    "                new_job['status'] = 'pending'\n",
    "                new_job['proc_id'] = process_id\n",
    "                save_job(new_job, db, experiment_name)\n",
    "\n",
    "            processed_suggestion = True\n",
    "            jobs = load_jobs(db, experiment_name)\n",
    "            print_resources_status(resources, jobs)\n",
    "\n",
    "        else: # tired(db, experiment_name, resources['my-machine']):\n",
    "            time.sleep(options.get('polling-time', 5))\n",
    "            jobs = load_jobs(db, experiment_name)\n",
    "\n",
    "\n",
    "        print_resources_status(resources, jobs)\n",
    "#time.sleep(options.get('polling-time', 30))\n",
    "#build_emulator(db, experiment_name, options)\n",
    "# create emulator"
   ]
  },
  {
   "cell_type": "code",
   "execution_count": 5,
   "metadata": {},
   "outputs": [
    {
     "name": "stdout",
     "output_type": "stream",
     "text": [
      "job['params']{'youngs': {'type': 'FLOAT', 'dimension': 1, 'min': 1000000, 'max': 5000000, 'distribution': 'normal', 'distribution_parameter': [400000, 10000], 'values': 4842937.661519292}, 'beta': {'type': 'FLOAT', 'dimension': 1, 'min': 1500000, 'max': 5000000, 'distribution': 'normal', 'distribution_parameter': [400000, 10000], 'values': 4430599.041220225}} \n",
      "paramyoungs \n",
      "parambeta \n",
      "job['params']{'youngs': {'type': 'FLOAT', 'dimension': 1, 'min': 1000000, 'max': 5000000, 'distribution': 'normal', 'distribution_parameter': [400000, 10000], 'values': 1183038.532393298}, 'beta': {'type': 'FLOAT', 'dimension': 1, 'min': 1500000, 'max': 5000000, 'distribution': 'normal', 'distribution_parameter': [400000, 10000], 'values': 2312854.901077803}} \n",
      "paramyoungs \n"
     ]
    },
    {
     "name": "stderr",
     "output_type": "stream",
     "text": [
      "reconstraining parameters GP_regression.Gaussian_noise.variance\n"
     ]
    },
    {
     "name": "stdout",
     "output_type": "stream",
     "text": [
      "parambeta \n",
      "job['params']{'youngs': {'type': 'FLOAT', 'dimension': 1, 'min': 1000000, 'max': 5000000, 'distribution': 'normal', 'distribution_parameter': [400000, 10000], 'values': 2031801.1623310146}, 'beta': {'type': 'FLOAT', 'dimension': 1, 'min': 1500000, 'max': 5000000, 'distribution': 'normal', 'distribution_parameter': [400000, 10000], 'values': 3465684.2656950923}} \n",
      "paramyoungs \n",
      "parambeta \n",
      "job['params']{'youngs': {'type': 'FLOAT', 'dimension': 1, 'min': 1000000, 'max': 5000000, 'distribution': 'normal', 'distribution_parameter': [400000, 10000], 'values': 3906723.005208339}, 'beta': {'type': 'FLOAT', 'dimension': 1, 'min': 1500000, 'max': 5000000, 'distribution': 'normal', 'distribution_parameter': [400000, 10000], 'values': 1553885.936880155}} \n",
      "paramyoungs \n",
      "parambeta \n",
      "job['params']{'youngs': {'type': 'FLOAT', 'dimension': 1, 'min': 1000000, 'max': 5000000, 'distribution': 'normal', 'distribution_parameter': [400000, 10000], 'values': 3343758.1218740586}, 'beta': {'type': 'FLOAT', 'dimension': 1, 'min': 1500000, 'max': 5000000, 'distribution': 'normal', 'distribution_parameter': [400000, 10000], 'values': 4210022.413131403}} \n",
      "paramyoungs \n",
      "parambeta \n",
      "Optimization restart 1/30, f = 13.61726001444319\n",
      "Optimization restart 2/30, f = 13.617260014907941\n",
      "Optimization restart 3/30, f = 13.617260014446055\n",
      "Optimization restart 4/30, f = 13.61726001449653\n",
      "Optimization restart 5/30, f = 13.617260014447417\n",
      "Optimization restart 6/30, f = 13.617260014443598\n",
      "Optimization restart 7/30, f = 13.61726001444295\n",
      "Optimization restart 8/30, f = 13.617260014772231\n",
      "Optimization restart 9/30, f = 13.617260014445012\n",
      "Optimization restart 10/30, f = 13.617260014443316\n",
      "Optimization restart 11/30, f = 13.617260015134512\n",
      "Optimization restart 12/30, f = 13.617260014471668\n",
      "Optimization restart 13/30, f = 13.617260014567906\n",
      "Optimization restart 14/30, f = 13.617260014443392\n",
      "Optimization restart 15/30, f = 13.617260014443083\n",
      "Optimization restart 16/30, f = 13.617260014540612\n",
      "Optimization restart 17/30, f = 13.617260014610231\n",
      "Optimization restart 18/30, f = 13.617260014444104\n",
      "Optimization restart 19/30, f = 13.61726001444294\n",
      "Optimization restart 20/30, f = 13.61726001444358\n",
      "Optimization restart 21/30, f = 13.617260014445334\n",
      "Optimization restart 22/30, f = 13.617260014756276\n",
      "Optimization restart 23/30, f = 13.617260014494928\n",
      "Optimization restart 24/30, f = 13.617260014443062\n",
      "Optimization restart 25/30, f = 13.61726001444299\n",
      "Optimization restart 26/30, f = 13.617260015586753\n",
      "Optimization restart 27/30, f = 13.617260014444025\n",
      "Optimization restart 28/30, f = 13.617260014548979\n",
      "Optimization restart 29/30, f = 13.61726001444349\n",
      "Optimization restart 30/30, f = 13.617260014443655\n",
      "Mean-0.008141425543838633 \n",
      "Variance of Mean0.06939086944900189 \n"
     ]
    }
   ],
   "source": [
    "    my_emulator = build_emulator(db, experiment_name, options)"
   ]
  },
  {
   "cell_type": "code",
   "execution_count": 6,
   "metadata": {},
   "outputs": [
    {
     "data": {
      "image/png": "[encoded data removed]",
      "text/plain": [
       "<matplotlib.figure.Figure at 0x7f3e68e3e160>"
      ]
     },
     "metadata": {},
     "output_type": "display_data"
    }
   ],
   "source": [
    "\n",
    "import matplotlib.pyplot as plt\n",
    "import seaborn as sns # makes plots more pretty \n",
    "import numpy as np\n",
    "\n",
    "my_pdf_hifi, y_plot_hifi  = my_emulator.compute_pdf()\n",
    "fig = plt.figure()\n",
    "fig.suptitle('Probability Density Function', fontsize=14)\n",
    "line1, = plt.plot(y_plot_hifi, my_pdf_hifi['mean'], lw=2, color='blue',label='GP mean')\n",
    "line2, = plt.plot(y_plot_hifi, my_pdf_hifi['median'], lw=2, color='green',label='GP median')\n",
    "plt.fill_between(y_plot_hifi,my_pdf_hifi['quant_low'], my_pdf_hifi['quant_high'],\n",
    "                  color='blue',alpha = 0.3,label='GP conf. reg.')\n",
    "\n",
    "plt.ylabel('pdf(y)')\n",
    "plt.xlabel('y')\n",
    "plt.legend()\n",
    "plt.show()\n"
   ]
  },
  {
   "cell_type": "code",
   "execution_count": 7,
   "metadata": {},
   "outputs": [
    {
     "data": {
      "image/png": "[encoded data removed]",
      "text/plain": [
       "<matplotlib.figure.Figure at 0x7f3e59c98c50>"
      ]
     },
     "metadata": {},
     "output_type": "display_data"
    }
   ],
   "source": [
    "cdf_val, sample_values = my_emulator.compute_cdf()\n",
    "\n",
    "fig = plt.figure()\n",
    "fig.suptitle('Cumulative Distribution Function', fontsize=14)\n",
    "x = np.append(sample_values['q_lower_bound'],\n",
    "              sample_values['q_upper_bound'][::-1])\n",
    "\n",
    "y = np.append(cdf_val,cdf_val[::-1])\n",
    "\n",
    "\n",
    "p = plt.Polygon(np.c_[x,y], color=\"blue\",alpha=0.3,label='GP conf. reg.')\n",
    "ax = plt.gca()\n",
    "ax.add_patch(p)\n",
    "line1, = plt.plot(sample_values['mean'], cdf_val, lw=2, color='blue',\n",
    "                  label='GP mean')\n",
    "line4, = plt.plot(sample_values['median'], cdf_val, lw=2, color='green',\n",
    "                  label='GP median')\n",
    "\n",
    "plt.legend()\n",
    "\n",
    "plt.ylabel('cdf(y)')\n",
    "plt.xlabel('y')\n",
    "plt.show()"
   ]
  },
  {
   "cell_type": "code",
   "execution_count": 8,
   "metadata": {},
   "outputs": [
    {
     "data": {
      "image/png": "[encoded data removed]",
      "text/plain": [
       "<matplotlib.figure.Figure at 0x7f3e59c4eb70>"
      ]
     },
     "metadata": {},
     "output_type": "display_data"
    }
   ],
   "source": [
    "y_quantile, my_fail_prob = my_emulator.compute_failure_probability_function()\n",
    "fig = plt.figure()\n",
    "fig.suptitle('Failure Probability', fontsize=14)\n",
    "plt.ylabel('P_f(y_0)')\n",
    "plt.xlabel('y_0')\n",
    "\n",
    "line1, = plt.plot(y_quantile['mean'],my_fail_prob, lw=2, color='blue',label='GP mean')\n",
    "line2, = plt.plot(y_quantile['median'],my_fail_prob, lw=2, color='green',label='GP median')\n",
    "\n",
    "x = np.append(y_quantile['q_upper_bound'],\n",
    "              y_quantile['q_lower_bound'][::-1])\n",
    "\n",
    "y = np.append(my_fail_prob,my_fail_prob[::-1])\n",
    "\n",
    "p = plt.Polygon(np.c_[x,y], color=\"blue\",alpha=0.3,label='GP conf. reg.')\n",
    "ax = plt.gca()\n",
    "ax.add_patch(p)\n",
    "\n",
    "plt.legend()\n",
    "ax.set_yscale('log')\n",
    "plt.show()"
   ]
  },
  {
   "cell_type": "code",
   "execution_count": null,
   "metadata": {},
   "outputs": [],
   "source": []
  },
  {
   "cell_type": "code",
   "execution_count": null,
   "metadata": {},
   "outputs": [],
   "source": []
  }
 ],
 "metadata": {
  "anaconda-cloud": {},
  "kernelspec": {
   "display_name": "Python 3",
   "language": "python",
   "name": "python3"
  },
  "language_info": {
   "codemirror_mode": {
    "name": "ipython",
    "version": 3
   },
   "file_extension": ".py",
   "mimetype": "text/x-python",
   "name": "python",
   "nbconvert_exporter": "python",
   "pygments_lexer": "ipython3",
   "version": "3.6.2"
  }
 },
 "nbformat": 4,
 "nbformat_minor": 1
}
