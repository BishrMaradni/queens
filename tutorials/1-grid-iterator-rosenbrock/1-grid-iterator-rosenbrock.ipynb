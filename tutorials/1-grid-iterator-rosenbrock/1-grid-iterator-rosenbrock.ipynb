{
 "cells": [
  {
   "cell_type": "markdown",
   "id": "cdb8a79e-a1df-4cb8-ac60-7a45def2326d",
   "metadata": {},
   "source": [
    "# Grid iterator on Rosenbrock function\n",
    "\n",
    "\n",
    "In this example, we will use the grid iterator on the [Rosenbrock](https://en.wikipedia.org/wiki/Rosenbrock_function) function.\n",
    "The Rosenbrock function is a well-known test function from optimization. It serves as the \"computational model\" for this example.\n",
    "The grid iterator evaluates a model based on a grid of the input space.\n",
    "\n",
    "There are two ways of using QUEENS:\n",
    "1. you can call it in the terminal with an input file and an output directory: `queens --input <path-to-input> --output_dir <output-path>`.\n",
    "2. you can write a small Python script that you use to run QUEENS.\n",
    "\n",
    "In this tutorial, we will follow the second approach and work with the script-based workflow.\n",
    "This allows you to run and interact with QUEENS directly in Jupyter notebooks."
   ]
  },
  {
   "cell_type": "code",
   "execution_count": null,
   "id": "dc7d3e18-fe23-4114-ae51-e504e8bfff07",
   "metadata": {},
   "outputs": [],
   "source": [
    "from queens.distributions.uniform import Uniform\n",
    "from queens.drivers import Function\n",
    "from queens.example_simulator_functions.rosenbrock60 import rosenbrock60\n",
    "from queens.global_settings import GlobalSettings\n",
    "from queens.iterators.grid import Grid\n",
    "from queens.main import run_iterator\n",
    "from queens.models.simulation import Simulation\n",
    "from queens.parameters.parameters import Parameters\n",
    "from queens.schedulers import Local\n",
    "from queens.utils.io import load_result\n",
    "\n",
    "\n",
    "# Global settings\n",
    "experiment_name = \"grid_iterator_rosenbrock\"\n",
    "output_dir = \"./\"\n",
    "\n",
    "\n",
    "with GlobalSettings(\n",
    "    experiment_name=experiment_name, output_dir=output_dir, debug=False\n",
    ") as gs:\n",
    "    #### Model setup ####\n",
    "    # Model parameters\n",
    "    x1 = Uniform(lower_bound=-2.0, upper_bound=2.0)\n",
    "    x2 = Uniform(lower_bound=-2.0, upper_bound=2.0)\n",
    "    parameters = Parameters(x1=x1, x2=x2)\n",
    "\n",
    "    # The scheduler manages the execution of your model on your local machine\n",
    "    scheduler = Local(experiment_name)\n",
    "    # The driver coordinates the evaluation of the forward model\n",
    "    driver = Function(parameters=parameters, function=rosenbrock60)\n",
    "    # The model itself\n",
    "    # including how it is evaluated (the interface to the computing resource)\n",
    "    model = Simulation(scheduler, driver)\n",
    "\n",
    "\n",
    "    #### Analysis setup ####\n",
    "    # Parameters of the analysis\n",
    "    grid_design = {\n",
    "            \"x1\": {\"num_grid_points\": 5, \"axis_type\": \"lin\", \"data_type\": \"FLOAT\"},\n",
    "            \"x2\": {\"num_grid_points\": 5, \"axis_type\": \"lin\", \"data_type\": \"FLOAT\"},\n",
    "        }\n",
    "\n",
    "    result_description ={\n",
    "            \"write_results\": True,\n",
    "            \"plot_results\": False,\n",
    "        }\n",
    "    # The method of the analysis is defined by the iterator type:\n",
    "    method = Grid(\n",
    "        grid_design=grid_design,\n",
    "        result_description=result_description,\n",
    "        global_settings=gs,\n",
    "        model=model,\n",
    "        parameters=parameters,\n",
    "    )\n",
    "\n",
    "    #### Analysis ####\n",
    "    run_iterator(method, gs)\n",
    "\n",
    "    #### Load Results ####\n",
    "    result_file = gs.output_dir / f\"{gs.experiment_name}.pickle\"\n",
    "    results = load_result(result_file)\n"
   ]
  },
  {
   "cell_type": "markdown",
   "id": "1fd2d1d2-4de3-4243-b41e-dd7856479e31",
   "metadata": {},
   "source": [
    "## QUEENS output\n",
    "\n",
    "QUEENS output is written to a file called `<experiment_name>.pickle` in the directory defined by the argument `output_dir` of the global settings object.  \n",
    "There also the `experiment_name` can be set. In the output folder, you also get a log file that contains the console output. It is called `<experiment_name>.log`.\n",
    "\n",
    "For this example, the experiment name is set to `grid_iterator_rosenbrock`.  \n",
    "Therefore, the output can be found in the following directory: `<output_dir>/grid_iterator_rosenbrock.pickle`\n",
    "\n",
    "In the case of the grid iterator, you get a dictionary including the raw input-output data and some statistics."
   ]
  },
  {
   "cell_type": "code",
   "execution_count": null,
   "id": "c2f58237-c010-4589-93ba-6397e412c7e7",
   "metadata": {},
   "outputs": [],
   "source": [
    "results"
   ]
  },
  {
   "cell_type": "markdown",
   "id": "7ddc0db9-2b7a-4e20-ab1c-bd2f3d3910f2",
   "metadata": {},
   "source": [
    "### Postprocessing\n",
    "\n",
    "You can now interact with these results as with any other Python object.\n",
    "For example, you can plot the results:"
   ]
  },
  {
   "cell_type": "code",
   "execution_count": null,
   "id": "e6ca7085-d65c-40e0-9ab4-c93e0782344e",
   "metadata": {},
   "outputs": [],
   "source": [
    "import plotly.graph_objects as go\n",
    "import numpy as np\n",
    "\n",
    "input_data = results[\"input_data\"]\n",
    "output_data = results[\"raw_output_data\"][\"result\"]\n",
    "\n",
    "x = np.unique(input_data[:,0])\n",
    "y = np.unique(input_data[:,1])\n",
    "\n",
    "shape_x = x.shape[0]\n",
    "shape_y = y.shape[0]\n",
    "\n",
    "z = output_data.reshape((shape_x, shape_y))\n",
    "fig = go.Figure(data=[go.Surface(x=x,y=y, z=z)])\n",
    "\n",
    "fig.show()"
   ]
  },
  {
   "cell_type": "markdown",
   "id": "e12ffeb4-91c0-4213-a72e-bf8914ce7a57",
   "metadata": {},
   "source": [
    "## Time for some individualization\n",
    "1. The resolution of the grid is relatively coarse.\n",
    "Increase the resolution by increasing the `num_grid_points` and repeat the simulation.\n",
    "\n",
    "1. You can adjust the bounds of the grid per variable via the keywords: `lower_bound` and `upper_bound`.  \n",
    "Go ahead and see what happens if you change the bound.\n",
    "\n",
    "1. Since we are evaluating a Python function we are using the `Function` Driver. \n",
    "Moreover, we are executing the study on our local machine, so we are using the\n",
    "`Local` Scheduler. You can also run the model evaluations in parallel by \n",
    "adjusting its `num_jobs` and `num_procs` parameters."
   ]
  }
 ],
 "metadata": {
  "kernelspec": {
   "display_name": "queens",
   "language": "python",
   "name": "python3"
  },
  "language_info": {
   "codemirror_mode": {
    "name": "ipython",
    "version": 3
   },
   "file_extension": ".py",
   "mimetype": "text/x-python",
   "name": "python",
   "nbconvert_exporter": "python",
   "pygments_lexer": "ipython3",
   "version": "3.11.0"
  }
 },
 "nbformat": 4,
 "nbformat_minor": 5
}
